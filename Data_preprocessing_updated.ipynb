{
  "nbformat": 4,
  "nbformat_minor": 0,
  "metadata": {
    "colab": {
      "name": "Data_preprocessing_updated.ipynb",
      "provenance": [],
      "include_colab_link": true
    },
    "kernelspec": {
      "name": "python3",
      "display_name": "Python 3"
    },
    "language_info": {
      "name": "python"
    }
  },
  "cells": [
    {
      "cell_type": "markdown",
      "metadata": {
        "id": "view-in-github",
        "colab_type": "text"
      },
      "source": [
        "<a href=\"https://colab.research.google.com/github/Sonal-kumar1998/ANN_Based_Device_Modelling/blob/main/Data_preprocessing_updated.ipynb\" target=\"_parent\"><img src=\"https://colab.research.google.com/assets/colab-badge.svg\" alt=\"Open In Colab\"/></a>"
      ]
    },
    {
      "cell_type": "markdown",
      "metadata": {
        "id": "42beYBdFQGRM"
      },
      "source": [
        "\n",
        "\n",
        "#Import library\n"
      ]
    },
    {
      "cell_type": "code",
      "metadata": {
        "colab": {
          "base_uri": "https://localhost:8080/"
        },
        "id": "IHCc3sPtOeX8",
        "outputId": "0534815d-bf62-4d64-a73c-f793ea7976b6"
      },
      "source": [
        "from google.colab import drive\n",
        "drive.mount('/content/drive')"
      ],
      "execution_count": null,
      "outputs": [
        {
          "output_type": "stream",
          "name": "stdout",
          "text": [
            "Drive already mounted at /content/drive; to attempt to forcibly remount, call drive.mount(\"/content/drive\", force_remount=True).\n"
          ]
        }
      ]
    },
    {
      "cell_type": "code",
      "metadata": {
        "id": "SlGWoi-8QBBJ"
      },
      "source": [
        "import pandas as pd\n",
        "import numpy as np"
      ],
      "execution_count": null,
      "outputs": []
    },
    {
      "cell_type": "markdown",
      "metadata": {
        "id": "jYCfAw5NQ29P"
      },
      "source": [
        "#Conversion function for terminal current and charge:"
      ]
    },
    {
      "cell_type": "code",
      "metadata": {
        "id": "lAGHmdszQtI1"
      },
      "source": [
        "def conversion_function(I_ds, V_ds):\n",
        "  I_0 = 10**(-12)          # 1 picometer\n",
        "  y1 = I_ds/(I_0*V_ds)\n",
        "  y = np.log10(y1)\n",
        "  return y"
      ],
      "execution_count": null,
      "outputs": []
    },
    {
      "cell_type": "markdown",
      "metadata": {
        "id": "cs1wR0SP9V48"
      },
      "source": [
        "# TCAD dataset  "
      ]
    },
    {
      "cell_type": "code",
      "metadata": {
        "colab": {
          "base_uri": "https://localhost:8080/",
          "height": 223
        },
        "id": "Q7ITo12_9EuW",
        "outputId": "6c167d90-d350-4ad3-b1f2-ad5c9d981d0a"
      },
      "source": [
        "TCAD_data_path = '/content/drive/MyDrive/DDP/Dataset/DC_dataset/tcad_data_set.csv'\n",
        "TCAD_data = pd.read_csv(TCAD_data_path)\n",
        "print(f\"The shape of the TCAD dataset is {TCAD_data.shape}\" )\n",
        "TCAD_data.head()"
      ],
      "execution_count": null,
      "outputs": [
        {
          "output_type": "stream",
          "name": "stdout",
          "text": [
            "The shape of the TCAD dataset is (1047654, 5)\n"
          ]
        },
        {
          "output_type": "execute_result",
          "data": {
            "text/html": [
              "<div>\n",
              "<style scoped>\n",
              "    .dataframe tbody tr th:only-of-type {\n",
              "        vertical-align: middle;\n",
              "    }\n",
              "\n",
              "    .dataframe tbody tr th {\n",
              "        vertical-align: top;\n",
              "    }\n",
              "\n",
              "    .dataframe thead th {\n",
              "        text-align: right;\n",
              "    }\n",
              "</style>\n",
              "<table border=\"1\" class=\"dataframe\">\n",
              "  <thead>\n",
              "    <tr style=\"text-align: right;\">\n",
              "      <th></th>\n",
              "      <th>#\"gate OuterVoltage\"</th>\n",
              "      <th>drain OuterVoltage</th>\n",
              "      <th>drain TotalCurrent</th>\n",
              "      <th>substrate OuterVoltage</th>\n",
              "      <th>source OuterVoltage</th>\n",
              "    </tr>\n",
              "  </thead>\n",
              "  <tbody>\n",
              "    <tr>\n",
              "      <th>0</th>\n",
              "      <td>0.0</td>\n",
              "      <td>-3.430000e-35</td>\n",
              "      <td>5.390000e-16</td>\n",
              "      <td>-1.0</td>\n",
              "      <td>-1.810000e-36</td>\n",
              "    </tr>\n",
              "    <tr>\n",
              "      <th>1</th>\n",
              "      <td>0.0</td>\n",
              "      <td>8.000000e-03</td>\n",
              "      <td>4.270000e-09</td>\n",
              "      <td>-1.0</td>\n",
              "      <td>1.580000e-34</td>\n",
              "    </tr>\n",
              "    <tr>\n",
              "      <th>2</th>\n",
              "      <td>0.0</td>\n",
              "      <td>1.600000e-02</td>\n",
              "      <td>7.040000e-09</td>\n",
              "      <td>-1.0</td>\n",
              "      <td>-4.780000e-33</td>\n",
              "    </tr>\n",
              "    <tr>\n",
              "      <th>3</th>\n",
              "      <td>0.0</td>\n",
              "      <td>2.400000e-02</td>\n",
              "      <td>8.790000e-09</td>\n",
              "      <td>-1.0</td>\n",
              "      <td>3.970000e-34</td>\n",
              "    </tr>\n",
              "    <tr>\n",
              "      <th>4</th>\n",
              "      <td>0.0</td>\n",
              "      <td>3.200000e-02</td>\n",
              "      <td>9.880000e-09</td>\n",
              "      <td>-1.0</td>\n",
              "      <td>4.760000e-34</td>\n",
              "    </tr>\n",
              "  </tbody>\n",
              "</table>\n",
              "</div>"
            ],
            "text/plain": [
              "   #\"gate OuterVoltage\"  ...  source OuterVoltage\n",
              "0                   0.0  ...        -1.810000e-36\n",
              "1                   0.0  ...         1.580000e-34\n",
              "2                   0.0  ...        -4.780000e-33\n",
              "3                   0.0  ...         3.970000e-34\n",
              "4                   0.0  ...         4.760000e-34\n",
              "\n",
              "[5 rows x 5 columns]"
            ]
          },
          "metadata": {},
          "execution_count": 4
        }
      ]
    },
    {
      "cell_type": "markdown",
      "metadata": {
        "id": "0EiKI9SgbSi2"
      },
      "source": [
        "#Preprocess TCAD dataset to convert ANN data set"
      ]
    },
    {
      "cell_type": "code",
      "metadata": {
        "colab": {
          "base_uri": "https://localhost:8080/",
          "height": 327
        },
        "id": "tPDP6wsrYMmD",
        "outputId": "81beaddf-571b-4ad3-dd16-0258e582ff57"
      },
      "source": [
        "#TCAD_data_path = \"/content/drive/MyDrive/DDP/Dataset/tcad_data_set.csv\"\n",
        "TCAD_data = pd.read_csv(TCAD_data_path)\n",
        "#print(TCAD_data.shape)   \n",
        "\n",
        "############# remove the header of data_set during concatination\n",
        "TCAD_data = TCAD_data[TCAD_data['#\"gate OuterVoltage\"'] != '#\"gate OuterVoltage\"']   \n",
        "#print(TCAD_data.shape)\n",
        "\n",
        "# convert the data set to float type \n",
        "TCAD_data = TCAD_data.astype(\"float\") \n",
        "\n",
        "############ remove invaild data point  for dataset\n",
        "TCAD_data[\"Vailid\"] = TCAD_data['drain TotalCurrent'] * TCAD_data[\"drain OuterVoltage\"]\n",
        "TCAD_data = TCAD_data[TCAD_data[\"Vailid\"] >= 0]\n",
        "TCAD_data = TCAD_data.drop(columns=\"Vailid\")\n",
        "#print(TCAD_data.shape)\n",
        "\n",
        "########### preprocess the TCAD_dataset\n",
        "I_ds = TCAD_data['drain TotalCurrent'] \n",
        "V_ds = TCAD_data['drain OuterVoltage']\n",
        "TCAD_data[\"V_gs\"] = TCAD_data['#\"gate OuterVoltage\"'] -TCAD_data[\"source OuterVoltage\"] \n",
        "TCAD_data[\"V_ds\"] = TCAD_data[\"drain OuterVoltage\"] -TCAD_data[\"source OuterVoltage\"] \n",
        "TCAD_data[\"V_bs\"] = TCAD_data[\"substrate OuterVoltage\"] -TCAD_data[\"source OuterVoltage\"] \n",
        "TCAD_data[\"converted_Ids\"] = conversion_function(I_ds, V_ds)\n",
        "\n",
        "########### Save the data set as ANN_data_set\n",
        "ANN_data_set = TCAD_data\n",
        "ANN_data_set.to_csv('/content/drive/MyDrive/DDP/Dataset/DC_dataset/ann_data_set.csv')\n",
        "# note the TCAD_data_set is in str format and ANN_data_set in float dataset\n",
        "print(f\"The shape of the ANN dataset is {ANN_data_set.shape}\" )\n",
        "ANN_data_set.head()"
      ],
      "execution_count": null,
      "outputs": [
        {
          "output_type": "stream",
          "name": "stdout",
          "text": [
            "The shape of the ANN dataset is (1047274, 9)\n"
          ]
        },
        {
          "output_type": "execute_result",
          "data": {
            "text/html": [
              "<div>\n",
              "<style scoped>\n",
              "    .dataframe tbody tr th:only-of-type {\n",
              "        vertical-align: middle;\n",
              "    }\n",
              "\n",
              "    .dataframe tbody tr th {\n",
              "        vertical-align: top;\n",
              "    }\n",
              "\n",
              "    .dataframe thead th {\n",
              "        text-align: right;\n",
              "    }\n",
              "</style>\n",
              "<table border=\"1\" class=\"dataframe\">\n",
              "  <thead>\n",
              "    <tr style=\"text-align: right;\">\n",
              "      <th></th>\n",
              "      <th>#\"gate OuterVoltage\"</th>\n",
              "      <th>drain OuterVoltage</th>\n",
              "      <th>drain TotalCurrent</th>\n",
              "      <th>substrate OuterVoltage</th>\n",
              "      <th>source OuterVoltage</th>\n",
              "      <th>V_gs</th>\n",
              "      <th>V_ds</th>\n",
              "      <th>V_bs</th>\n",
              "      <th>converted_Ids</th>\n",
              "    </tr>\n",
              "  </thead>\n",
              "  <tbody>\n",
              "    <tr>\n",
              "      <th>1</th>\n",
              "      <td>0.0</td>\n",
              "      <td>0.008</td>\n",
              "      <td>4.270000e-09</td>\n",
              "      <td>-1.0</td>\n",
              "      <td>1.580000e-34</td>\n",
              "      <td>-1.580000e-34</td>\n",
              "      <td>0.008</td>\n",
              "      <td>-1.0</td>\n",
              "      <td>5.727338</td>\n",
              "    </tr>\n",
              "    <tr>\n",
              "      <th>2</th>\n",
              "      <td>0.0</td>\n",
              "      <td>0.016</td>\n",
              "      <td>7.040000e-09</td>\n",
              "      <td>-1.0</td>\n",
              "      <td>-4.780000e-33</td>\n",
              "      <td>4.780000e-33</td>\n",
              "      <td>0.016</td>\n",
              "      <td>-1.0</td>\n",
              "      <td>5.643453</td>\n",
              "    </tr>\n",
              "    <tr>\n",
              "      <th>3</th>\n",
              "      <td>0.0</td>\n",
              "      <td>0.024</td>\n",
              "      <td>8.790000e-09</td>\n",
              "      <td>-1.0</td>\n",
              "      <td>3.970000e-34</td>\n",
              "      <td>-3.970000e-34</td>\n",
              "      <td>0.024</td>\n",
              "      <td>-1.0</td>\n",
              "      <td>5.563778</td>\n",
              "    </tr>\n",
              "    <tr>\n",
              "      <th>4</th>\n",
              "      <td>0.0</td>\n",
              "      <td>0.032</td>\n",
              "      <td>9.880000e-09</td>\n",
              "      <td>-1.0</td>\n",
              "      <td>4.760000e-34</td>\n",
              "      <td>-4.760000e-34</td>\n",
              "      <td>0.032</td>\n",
              "      <td>-1.0</td>\n",
              "      <td>5.489607</td>\n",
              "    </tr>\n",
              "    <tr>\n",
              "      <th>5</th>\n",
              "      <td>0.0</td>\n",
              "      <td>0.040</td>\n",
              "      <td>1.050000e-08</td>\n",
              "      <td>-1.0</td>\n",
              "      <td>5.160000e-34</td>\n",
              "      <td>-5.160000e-34</td>\n",
              "      <td>0.040</td>\n",
              "      <td>-1.0</td>\n",
              "      <td>5.419129</td>\n",
              "    </tr>\n",
              "  </tbody>\n",
              "</table>\n",
              "</div>"
            ],
            "text/plain": [
              "   #\"gate OuterVoltage\"  drain OuterVoltage  ...  V_bs  converted_Ids\n",
              "1                   0.0               0.008  ...  -1.0       5.727338\n",
              "2                   0.0               0.016  ...  -1.0       5.643453\n",
              "3                   0.0               0.024  ...  -1.0       5.563778\n",
              "4                   0.0               0.032  ...  -1.0       5.489607\n",
              "5                   0.0               0.040  ...  -1.0       5.419129\n",
              "\n",
              "[5 rows x 9 columns]"
            ]
          },
          "metadata": {},
          "execution_count": 7
        }
      ]
    },
    {
      "cell_type": "code",
      "metadata": {
        "colab": {
          "base_uri": "https://localhost:8080/",
          "height": 310
        },
        "id": "awL6WPNpKvZU",
        "outputId": "0e89df4e-c741-421e-ca11-b30e51427dda"
      },
      "source": [
        "data = pd.read_csv(\"/content/drive/MyDrive/DDP/Dataset/DC_dataset/ann_data_set.csv\")\n",
        "data.head()"
      ],
      "execution_count": null,
      "outputs": [
        {
          "output_type": "execute_result",
          "data": {
            "text/html": [
              "<div>\n",
              "<style scoped>\n",
              "    .dataframe tbody tr th:only-of-type {\n",
              "        vertical-align: middle;\n",
              "    }\n",
              "\n",
              "    .dataframe tbody tr th {\n",
              "        vertical-align: top;\n",
              "    }\n",
              "\n",
              "    .dataframe thead th {\n",
              "        text-align: right;\n",
              "    }\n",
              "</style>\n",
              "<table border=\"1\" class=\"dataframe\">\n",
              "  <thead>\n",
              "    <tr style=\"text-align: right;\">\n",
              "      <th></th>\n",
              "      <th>Unnamed: 0</th>\n",
              "      <th>#\"gate OuterVoltage\"</th>\n",
              "      <th>drain OuterVoltage</th>\n",
              "      <th>drain TotalCurrent</th>\n",
              "      <th>substrate OuterVoltage</th>\n",
              "      <th>source OuterVoltage</th>\n",
              "      <th>V_gs</th>\n",
              "      <th>V_ds</th>\n",
              "      <th>V_bs</th>\n",
              "      <th>converted_Ids</th>\n",
              "    </tr>\n",
              "  </thead>\n",
              "  <tbody>\n",
              "    <tr>\n",
              "      <th>0</th>\n",
              "      <td>1</td>\n",
              "      <td>0.0</td>\n",
              "      <td>0.008</td>\n",
              "      <td>4.270000e-09</td>\n",
              "      <td>-1.0</td>\n",
              "      <td>1.580000e-34</td>\n",
              "      <td>-1.580000e-34</td>\n",
              "      <td>0.008</td>\n",
              "      <td>-1.0</td>\n",
              "      <td>5.727338</td>\n",
              "    </tr>\n",
              "    <tr>\n",
              "      <th>1</th>\n",
              "      <td>2</td>\n",
              "      <td>0.0</td>\n",
              "      <td>0.016</td>\n",
              "      <td>7.040000e-09</td>\n",
              "      <td>-1.0</td>\n",
              "      <td>-4.780000e-33</td>\n",
              "      <td>4.780000e-33</td>\n",
              "      <td>0.016</td>\n",
              "      <td>-1.0</td>\n",
              "      <td>5.643453</td>\n",
              "    </tr>\n",
              "    <tr>\n",
              "      <th>2</th>\n",
              "      <td>3</td>\n",
              "      <td>0.0</td>\n",
              "      <td>0.024</td>\n",
              "      <td>8.790000e-09</td>\n",
              "      <td>-1.0</td>\n",
              "      <td>3.970000e-34</td>\n",
              "      <td>-3.970000e-34</td>\n",
              "      <td>0.024</td>\n",
              "      <td>-1.0</td>\n",
              "      <td>5.563778</td>\n",
              "    </tr>\n",
              "    <tr>\n",
              "      <th>3</th>\n",
              "      <td>4</td>\n",
              "      <td>0.0</td>\n",
              "      <td>0.032</td>\n",
              "      <td>9.880000e-09</td>\n",
              "      <td>-1.0</td>\n",
              "      <td>4.760000e-34</td>\n",
              "      <td>-4.760000e-34</td>\n",
              "      <td>0.032</td>\n",
              "      <td>-1.0</td>\n",
              "      <td>5.489607</td>\n",
              "    </tr>\n",
              "    <tr>\n",
              "      <th>4</th>\n",
              "      <td>5</td>\n",
              "      <td>0.0</td>\n",
              "      <td>0.040</td>\n",
              "      <td>1.050000e-08</td>\n",
              "      <td>-1.0</td>\n",
              "      <td>5.160000e-34</td>\n",
              "      <td>-5.160000e-34</td>\n",
              "      <td>0.040</td>\n",
              "      <td>-1.0</td>\n",
              "      <td>5.419129</td>\n",
              "    </tr>\n",
              "  </tbody>\n",
              "</table>\n",
              "</div>"
            ],
            "text/plain": [
              "   Unnamed: 0  #\"gate OuterVoltage\"  ...  V_bs  converted_Ids\n",
              "0           1                   0.0  ...  -1.0       5.727338\n",
              "1           2                   0.0  ...  -1.0       5.643453\n",
              "2           3                   0.0  ...  -1.0       5.563778\n",
              "3           4                   0.0  ...  -1.0       5.489607\n",
              "4           5                   0.0  ...  -1.0       5.419129\n",
              "\n",
              "[5 rows x 10 columns]"
            ]
          },
          "metadata": {},
          "execution_count": 9
        }
      ]
    },
    {
      "cell_type": "markdown",
      "metadata": {
        "id": "_-AQuCiDcoFi"
      },
      "source": [
        "#Unique is function which return dictionary of unique value"
      ]
    },
    {
      "cell_type": "code",
      "metadata": {
        "id": "ng8E2Ti5cfEe"
      },
      "source": [
        "# input argument global path variable\n",
        "# return dictnary of the unique value\n",
        "global ann_datapath\n",
        "ann_datapath = \"/content/drive/MyDrive/DDP/Dataset/DC_dataset/ann_data_set.csv\"\n",
        "def unique(path):\n",
        "  value = {}\n",
        "  data = pd.read_csv(path)\n",
        "  data = data[data['#\"gate OuterVoltage\"'] != '#\"gate OuterVoltage\"']\n",
        "  unique_gate_volt = data['#\"gate OuterVoltage\"'].unique()\n",
        "  unique_gate_volt = unique_gate_volt.reshape(unique_gate_volt.shape[0],1)\n",
        "  unique_drain_volt = data['drain OuterVoltage'].unique()\n",
        "  unique_drain_volt = unique_drain_volt.reshape(unique_drain_volt.shape[0],1)\n",
        "  value[\"drain_voltage\"] = unique_drain_volt.reshape(1,unique_drain_volt.shape[0])\n",
        "  value[\"gate_voltage\"] =np.sort(unique_gate_volt.reshape(1,unique_gate_volt.shape[0]))\n",
        "  return value"
      ],
      "execution_count": null,
      "outputs": []
    },
    {
      "cell_type": "code",
      "metadata": {
        "colab": {
          "base_uri": "https://localhost:8080/"
        },
        "id": "Pi_V3v0UdDH8",
        "outputId": "87b80c18-328a-44fe-b599-25375c3ffeed"
      },
      "source": [
        "print(unique(ann_datapath)[\"drain_voltage\"][:,:5]) # print first 3 unique drain volatge\n",
        "print(unique(ann_datapath)[\"gate_voltage\"][:, :5]) # print first 3 unique gate_voltage "
      ],
      "execution_count": null,
      "outputs": [
        {
          "output_type": "stream",
          "name": "stdout",
          "text": [
            "[[0.008 0.016 0.024 0.032 0.04 ]]\n",
            "[[0.   0.02 0.04 0.06 0.08]]\n"
          ]
        }
      ]
    },
    {
      "cell_type": "markdown",
      "metadata": {
        "id": "cCn3uv09cJbD"
      },
      "source": [
        "# Split the data into training and testing data_set"
      ]
    },
    {
      "cell_type": "code",
      "metadata": {
        "colab": {
          "base_uri": "https://localhost:8080/",
          "height": 327
        },
        "id": "iXPv9lCZiWw6",
        "outputId": "b42078a0-660b-460c-aafe-b1de0bf10a6e"
      },
      "source": [
        "unique_gate = unique(ann_datapath)[\"gate_voltage\"]             # find the unique gate voltage\n",
        "gate_voltage = unique_gate.tolist()[0]                         # list of gate voltage in ann_data_set\n",
        "test_gate_voltage = []\n",
        "for i in range(5, len(gate_voltage) ,5):\n",
        "  test_gate_voltage.append(float(unique_gate[:,i]))  \n",
        "\n",
        "## list of test gate voltage\n",
        "training_gate_volatge = newlist = [volt for volt in gate_voltage if volt not in test_gate_voltage]\n",
        "\n",
        "########################__________Loading_data_set__________#############################\n",
        "ANN_data_set = pd.read_csv(ann_datapath)\n",
        "ANN_data_set = ANN_data_set.drop(columns=\"Unnamed: 0\")\n",
        "\n",
        "########################__________Testing_data_set__________#############################\n",
        "Test_data_set = ANN_data_set.loc[ANN_data_set['#\"gate OuterVoltage\"'].isin(test_gate_voltage)]\n",
        "Test_data_set.to_csv('/content/drive/MyDrive/DDP/Dataset/DC_dataset/test_data_set.csv')   # save the testing data set\n",
        "\n",
        "########################__________Training_data_set__________#############################\n",
        "Training_data_set = ANN_data_set.loc[ANN_data_set['#\"gate OuterVoltage\"'].isin(training_gate_volatge)]\n",
        "Training_data_set.to_csv('/content/drive/MyDrive/DDP/Dataset/DC_dataset/training_data_set.csv')\n",
        "\n",
        "print(f\"The shape of the Training dataset is {Training_data_set.shape}\" )\n",
        "Training_data_set.head()\n",
        "ANN_data_set.head()"
      ],
      "execution_count": null,
      "outputs": [
        {
          "output_type": "stream",
          "name": "stdout",
          "text": [
            "The shape of the Training dataset is (839042, 9)\n"
          ]
        },
        {
          "output_type": "execute_result",
          "data": {
            "text/html": [
              "<div>\n",
              "<style scoped>\n",
              "    .dataframe tbody tr th:only-of-type {\n",
              "        vertical-align: middle;\n",
              "    }\n",
              "\n",
              "    .dataframe tbody tr th {\n",
              "        vertical-align: top;\n",
              "    }\n",
              "\n",
              "    .dataframe thead th {\n",
              "        text-align: right;\n",
              "    }\n",
              "</style>\n",
              "<table border=\"1\" class=\"dataframe\">\n",
              "  <thead>\n",
              "    <tr style=\"text-align: right;\">\n",
              "      <th></th>\n",
              "      <th>#\"gate OuterVoltage\"</th>\n",
              "      <th>drain OuterVoltage</th>\n",
              "      <th>drain TotalCurrent</th>\n",
              "      <th>substrate OuterVoltage</th>\n",
              "      <th>source OuterVoltage</th>\n",
              "      <th>V_gs</th>\n",
              "      <th>V_ds</th>\n",
              "      <th>V_bs</th>\n",
              "      <th>converted_Ids</th>\n",
              "    </tr>\n",
              "  </thead>\n",
              "  <tbody>\n",
              "    <tr>\n",
              "      <th>0</th>\n",
              "      <td>0.0</td>\n",
              "      <td>0.008</td>\n",
              "      <td>4.270000e-09</td>\n",
              "      <td>-1.0</td>\n",
              "      <td>1.580000e-34</td>\n",
              "      <td>-1.580000e-34</td>\n",
              "      <td>0.008</td>\n",
              "      <td>-1.0</td>\n",
              "      <td>5.727338</td>\n",
              "    </tr>\n",
              "    <tr>\n",
              "      <th>1</th>\n",
              "      <td>0.0</td>\n",
              "      <td>0.016</td>\n",
              "      <td>7.040000e-09</td>\n",
              "      <td>-1.0</td>\n",
              "      <td>-4.780000e-33</td>\n",
              "      <td>4.780000e-33</td>\n",
              "      <td>0.016</td>\n",
              "      <td>-1.0</td>\n",
              "      <td>5.643453</td>\n",
              "    </tr>\n",
              "    <tr>\n",
              "      <th>2</th>\n",
              "      <td>0.0</td>\n",
              "      <td>0.024</td>\n",
              "      <td>8.790000e-09</td>\n",
              "      <td>-1.0</td>\n",
              "      <td>3.970000e-34</td>\n",
              "      <td>-3.970000e-34</td>\n",
              "      <td>0.024</td>\n",
              "      <td>-1.0</td>\n",
              "      <td>5.563778</td>\n",
              "    </tr>\n",
              "    <tr>\n",
              "      <th>3</th>\n",
              "      <td>0.0</td>\n",
              "      <td>0.032</td>\n",
              "      <td>9.880000e-09</td>\n",
              "      <td>-1.0</td>\n",
              "      <td>4.760000e-34</td>\n",
              "      <td>-4.760000e-34</td>\n",
              "      <td>0.032</td>\n",
              "      <td>-1.0</td>\n",
              "      <td>5.489607</td>\n",
              "    </tr>\n",
              "    <tr>\n",
              "      <th>4</th>\n",
              "      <td>0.0</td>\n",
              "      <td>0.040</td>\n",
              "      <td>1.050000e-08</td>\n",
              "      <td>-1.0</td>\n",
              "      <td>5.160000e-34</td>\n",
              "      <td>-5.160000e-34</td>\n",
              "      <td>0.040</td>\n",
              "      <td>-1.0</td>\n",
              "      <td>5.419129</td>\n",
              "    </tr>\n",
              "  </tbody>\n",
              "</table>\n",
              "</div>"
            ],
            "text/plain": [
              "   #\"gate OuterVoltage\"  drain OuterVoltage  ...  V_bs  converted_Ids\n",
              "0                   0.0               0.008  ...  -1.0       5.727338\n",
              "1                   0.0               0.016  ...  -1.0       5.643453\n",
              "2                   0.0               0.024  ...  -1.0       5.563778\n",
              "3                   0.0               0.032  ...  -1.0       5.489607\n",
              "4                   0.0               0.040  ...  -1.0       5.419129\n",
              "\n",
              "[5 rows x 9 columns]"
            ]
          },
          "metadata": {},
          "execution_count": 12
        }
      ]
    },
    {
      "cell_type": "code",
      "metadata": {
        "colab": {
          "base_uri": "https://localhost:8080/",
          "height": 345
        },
        "id": "7UaoIJD8qju4",
        "outputId": "90373ac3-e291-4fa4-97b5-f09ed57a43b1"
      },
      "source": [
        "print(Test_data_set.shape)\n",
        "print(f\"The shape of the Test dataset is {Test_data_set.shape}\" )\n",
        "Test_data_set.head()"
      ],
      "execution_count": null,
      "outputs": [
        {
          "output_type": "stream",
          "name": "stdout",
          "text": [
            "(208232, 9)\n",
            "The shape of the Test dataset is (208232, 9)\n"
          ]
        },
        {
          "output_type": "execute_result",
          "data": {
            "text/html": [
              "<div>\n",
              "<style scoped>\n",
              "    .dataframe tbody tr th:only-of-type {\n",
              "        vertical-align: middle;\n",
              "    }\n",
              "\n",
              "    .dataframe tbody tr th {\n",
              "        vertical-align: top;\n",
              "    }\n",
              "\n",
              "    .dataframe thead th {\n",
              "        text-align: right;\n",
              "    }\n",
              "</style>\n",
              "<table border=\"1\" class=\"dataframe\">\n",
              "  <thead>\n",
              "    <tr style=\"text-align: right;\">\n",
              "      <th></th>\n",
              "      <th>#\"gate OuterVoltage\"</th>\n",
              "      <th>drain OuterVoltage</th>\n",
              "      <th>drain TotalCurrent</th>\n",
              "      <th>substrate OuterVoltage</th>\n",
              "      <th>source OuterVoltage</th>\n",
              "      <th>V_gs</th>\n",
              "      <th>V_ds</th>\n",
              "      <th>V_bs</th>\n",
              "      <th>converted_Ids</th>\n",
              "    </tr>\n",
              "  </thead>\n",
              "  <tbody>\n",
              "    <tr>\n",
              "      <th>1125</th>\n",
              "      <td>1.0</td>\n",
              "      <td>1.200000e-35</td>\n",
              "      <td>4.200000e-16</td>\n",
              "      <td>-1.0</td>\n",
              "      <td>8.410000e-36</td>\n",
              "      <td>1.0</td>\n",
              "      <td>3.590000e-36</td>\n",
              "      <td>-1.0</td>\n",
              "      <td>31.544068</td>\n",
              "    </tr>\n",
              "    <tr>\n",
              "      <th>1126</th>\n",
              "      <td>1.0</td>\n",
              "      <td>8.000000e-03</td>\n",
              "      <td>3.670000e-06</td>\n",
              "      <td>-1.0</td>\n",
              "      <td>8.410000e-36</td>\n",
              "      <td>1.0</td>\n",
              "      <td>8.000000e-03</td>\n",
              "      <td>-1.0</td>\n",
              "      <td>8.661576</td>\n",
              "    </tr>\n",
              "    <tr>\n",
              "      <th>1127</th>\n",
              "      <td>1.0</td>\n",
              "      <td>1.600000e-02</td>\n",
              "      <td>7.320000e-06</td>\n",
              "      <td>-1.0</td>\n",
              "      <td>8.410000e-36</td>\n",
              "      <td>1.0</td>\n",
              "      <td>1.600000e-02</td>\n",
              "      <td>-1.0</td>\n",
              "      <td>8.660391</td>\n",
              "    </tr>\n",
              "    <tr>\n",
              "      <th>1128</th>\n",
              "      <td>1.0</td>\n",
              "      <td>2.400000e-02</td>\n",
              "      <td>1.090000e-05</td>\n",
              "      <td>-1.0</td>\n",
              "      <td>8.410000e-36</td>\n",
              "      <td>1.0</td>\n",
              "      <td>2.400000e-02</td>\n",
              "      <td>-1.0</td>\n",
              "      <td>8.657215</td>\n",
              "    </tr>\n",
              "    <tr>\n",
              "      <th>1129</th>\n",
              "      <td>1.0</td>\n",
              "      <td>3.200000e-02</td>\n",
              "      <td>1.460000e-05</td>\n",
              "      <td>-1.0</td>\n",
              "      <td>1.040000e-29</td>\n",
              "      <td>1.0</td>\n",
              "      <td>3.200000e-02</td>\n",
              "      <td>-1.0</td>\n",
              "      <td>8.659203</td>\n",
              "    </tr>\n",
              "  </tbody>\n",
              "</table>\n",
              "</div>"
            ],
            "text/plain": [
              "      #\"gate OuterVoltage\"  drain OuterVoltage  ...  V_bs  converted_Ids\n",
              "1125                   1.0        1.200000e-35  ...  -1.0      31.544068\n",
              "1126                   1.0        8.000000e-03  ...  -1.0       8.661576\n",
              "1127                   1.0        1.600000e-02  ...  -1.0       8.660391\n",
              "1128                   1.0        2.400000e-02  ...  -1.0       8.657215\n",
              "1129                   1.0        3.200000e-02  ...  -1.0       8.659203\n",
              "\n",
              "[5 rows x 9 columns]"
            ]
          },
          "metadata": {},
          "execution_count": 13
        }
      ]
    },
    {
      "cell_type": "code",
      "metadata": {
        "id": "dJhOMbc069P0"
      },
      "source": [
        ""
      ],
      "execution_count": null,
      "outputs": []
    }
  ]
}