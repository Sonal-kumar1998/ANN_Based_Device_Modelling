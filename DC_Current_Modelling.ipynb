{
  "nbformat": 4,
  "nbformat_minor": 0,
  "metadata": {
    "accelerator": "GPU",
    "colab": {
      "name": "DC_Modelling.ipynb",
      "provenance": [],
      "collapsed_sections": [],
      "include_colab_link": true
    },
    "kernelspec": {
      "display_name": "Python 3",
      "name": "python3"
    },
    "language_info": {
      "name": "python"
    }
  },
  "cells": [
    {
      "cell_type": "markdown",
      "metadata": {
        "id": "view-in-github",
        "colab_type": "text"
      },
      "source": [
        "<a href=\"https://colab.research.google.com/github/Sonal-kumar1998/ANN_Based_Device_Modelling/blob/main/DC_Modelling.ipynb\" target=\"_parent\"><img src=\"https://colab.research.google.com/assets/colab-badge.svg\" alt=\"Open In Colab\"/></a>"
      ]
    },
    {
      "cell_type": "markdown",
      "metadata": {
        "id": "oDV0b7wbNrqC"
      },
      "source": [
        "#Import Library"
      ]
    },
    {
      "cell_type": "code",
      "metadata": {
        "colab": {
          "base_uri": "https://localhost:8080/"
        },
        "id": "MyHWdLV03uDy",
        "outputId": "3162ed13-d8c2-4eeb-c18c-84f037fdd146"
      },
      "source": [
        "from google.colab import drive\n",
        "drive.mount('/content/drive')"
      ],
      "execution_count": 1,
      "outputs": [
        {
          "output_type": "stream",
          "name": "stdout",
          "text": [
            "Drive already mounted at /content/drive; to attempt to forcibly remount, call drive.mount(\"/content/drive\", force_remount=True).\n"
          ]
        }
      ]
    },
    {
      "cell_type": "code",
      "metadata": {
        "id": "agivc2PwNoNT"
      },
      "source": [
        "import tensorflow as tf\n",
        "from tensorflow import keras\n",
        "from sklearn.preprocessing import StandardScaler\n",
        "from sklearn.model_selection import train_test_split\n",
        "from tensorflow.keras import Sequential\n",
        "from tensorflow.keras.layers import Dense\n",
        "import matplotlib.pyplot as plt\n",
        "import pandas as pd\n",
        "import numpy as np"
      ],
      "execution_count": 2,
      "outputs": []
    },
    {
      "cell_type": "markdown",
      "metadata": {
        "id": "hmLoXj2gpnNR"
      },
      "source": [
        "from google.colab import drive\n",
        "drive.mount('/content/drive')"
      ]
    },
    {
      "cell_type": "markdown",
      "metadata": {
        "id": "eYna9vn_sFee"
      },
      "source": [
        "#loading the training and testing dataset"
      ]
    },
    {
      "cell_type": "code",
      "metadata": {
        "colab": {
          "base_uri": "https://localhost:8080/"
        },
        "id": "vSlZlyZZNyp8",
        "outputId": "3accc912-caf4-4d12-fadf-21276ada0e9f"
      },
      "source": [
        "##########__________load training dataset________################\n",
        "training_data_path = \"/content/drive/MyDrive/DDP/Dataset/DC_dataset/training_data_set.csv\"\n",
        "training_data = pd.read_csv(training_data_path)\n",
        "\n",
        "##########__________load test dataset________################\n",
        "test_data_path = \"/content/drive/MyDrive/DDP/Dataset/DC_dataset/test_data_set.csv\"\n",
        "test_data = pd.read_csv(test_data_path)\n",
        "#print(data_set.columns)\n",
        "\n",
        "#########_________Training data__________###################\n",
        "input = ['V_gs','V_ds', 'V_bs']            #  input feature column\n",
        "output = ['converted_Ids']                 # output feature column\n",
        "X_train = training_data[input]\n",
        "Y_train = training_data[output]\n",
        "\n",
        "#########_________Test data__________###################\n",
        "input = ['V_gs','V_ds', 'V_bs']            #  input feature column\n",
        "output = ['converted_Ids']                 # output feature column\n",
        "X_test = test_data[input]\n",
        "Y_test = test_data[output]\n",
        "\n",
        "print(f\"The shape of the training data is {training_data.shape}\")\n",
        "print(f\"The shape of the test data is {test_data.shape}\")"
      ],
      "execution_count": 3,
      "outputs": [
        {
          "output_type": "stream",
          "name": "stdout",
          "text": [
            "The shape of the training data is (942593, 10)\n",
            "The shape of the test data is (104681, 10)\n"
          ]
        }
      ]
    },
    {
      "cell_type": "markdown",
      "metadata": {
        "id": "su3HVcP0sPsD"
      },
      "source": [
        "#feature of the Deep Neural net"
      ]
    },
    {
      "cell_type": "code",
      "metadata": {
        "id": "Ix26qz0kOEK-"
      },
      "source": [
        "sample, feature = X_train.shape               # number of input feature\n",
        "h_1, h_2, h_3, h_4, h_5 = 10 ,10 ,5 ,10 ,5    # number of node in each hidden layer\n",
        "output = 1                                    # number of output\n",
        "epoch = 1000                                  # number of epoch\n",
        "batch_size = 128                             # number of batch size\n",
        "model_name = str(h_1)+str(h_2) \n"
      ],
      "execution_count": 4,
      "outputs": []
    },
    {
      "cell_type": "markdown",
      "metadata": {
        "id": "N1Rp3Qj7XY19"
      },
      "source": [
        "# Build Neural net"
      ]
    },
    {
      "cell_type": "code",
      "metadata": {
        "colab": {
          "base_uri": "https://localhost:8080/"
        },
        "id": "uFw4gkRmQOoo",
        "outputId": "89decb07-4938-4365-e763-1838d409463e"
      },
      "source": [
        "model = Sequential()\n",
        "model.add(Dense(h_1, activation='tanh',  kernel_initializer='he_normal', input_shape=(feature,)))\n",
        "model.add(Dense(h_2, activation='tanh', kernel_initializer='he_normal'))\n",
        "#model.add(Dense(h_3, activation='tanh', kernel_initializer='he_normal'))\n",
        "# model.add(Dense(h_4, activation='tanh', kernel_initializer='he_normal'))\n",
        "#model.add(Dense(h_5, activation='tanh', kernel_initializer='he_normal'))\n",
        "model.add(Dense(output))\n",
        "model.summary()"
      ],
      "execution_count": 5,
      "outputs": [
        {
          "output_type": "stream",
          "name": "stdout",
          "text": [
            "Model: \"sequential\"\n",
            "_________________________________________________________________\n",
            "Layer (type)                 Output Shape              Param #   \n",
            "=================================================================\n",
            "dense (Dense)                (None, 10)                40        \n",
            "_________________________________________________________________\n",
            "dense_1 (Dense)              (None, 10)                110       \n",
            "_________________________________________________________________\n",
            "dense_2 (Dense)              (None, 1)                 11        \n",
            "=================================================================\n",
            "Total params: 161\n",
            "Trainable params: 161\n",
            "Non-trainable params: 0\n",
            "_________________________________________________________________\n"
          ]
        }
      ]
    },
    {
      "cell_type": "code",
      "metadata": {
        "colab": {
          "base_uri": "https://localhost:8080/"
        },
        "id": "0obzy9XvUtO-",
        "outputId": "c9ad20f4-ee15-4d69-addf-dbfff43c0bc7"
      },
      "source": [
        "model.compile(optimizer= 'adam', loss=\"MeanSquaredError\", metrics=[])\n",
        "print(model_name)"
      ],
      "execution_count": 6,
      "outputs": [
        {
          "output_type": "stream",
          "name": "stdout",
          "text": [
            "1010\n"
          ]
        }
      ]
    },
    {
      "cell_type": "code",
      "metadata": {
        "colab": {
          "base_uri": "https://localhost:8080/"
        },
        "id": "TWT9XJOYUtSX",
        "outputId": "11eb6d69-ab31-4957-af35-bc2540957a4e"
      },
      "source": [
        "history = model.fit(X_train, Y_train, epochs= epoch, batch_size = batch_size, validation_data=(X_test, Y_test), verbose=1)"
      ],
      "execution_count": null,
      "outputs": [
        {
          "output_type": "stream",
          "name": "stdout",
          "text": [
            "Epoch 1/1000\n",
            "7365/7365 [==============================] - 21s 3ms/step - loss: 1.3274 - val_loss: 0.2767\n",
            "Epoch 2/1000\n",
            "7365/7365 [==============================] - 20s 3ms/step - loss: 0.2576 - val_loss: 0.2380\n",
            "Epoch 3/1000\n",
            "7365/7365 [==============================] - 21s 3ms/step - loss: 0.2046 - val_loss: 0.1693\n",
            "Epoch 4/1000\n",
            "7365/7365 [==============================] - 21s 3ms/step - loss: 0.1328 - val_loss: 0.0979\n",
            "Epoch 5/1000\n",
            "7365/7365 [==============================] - 20s 3ms/step - loss: 0.0655 - val_loss: 0.0358\n",
            "Epoch 6/1000\n",
            "7365/7365 [==============================] - 21s 3ms/step - loss: 0.0184 - val_loss: 0.0061\n",
            "Epoch 7/1000\n",
            "7365/7365 [==============================] - 20s 3ms/step - loss: 0.0025 - val_loss: 0.0012\n",
            "Epoch 8/1000\n",
            "7365/7365 [==============================] - 20s 3ms/step - loss: 8.3704e-04 - val_loss: 6.6721e-04\n",
            "Epoch 9/1000\n",
            "7365/7365 [==============================] - 21s 3ms/step - loss: 7.1385e-04 - val_loss: 8.7708e-04\n",
            "Epoch 10/1000\n",
            "7365/7365 [==============================] - 21s 3ms/step - loss: 6.7194e-04 - val_loss: 8.9729e-04\n",
            "Epoch 11/1000\n",
            "7365/7365 [==============================] - 21s 3ms/step - loss: 6.1329e-04 - val_loss: 6.1050e-04\n",
            "Epoch 12/1000\n",
            "7365/7365 [==============================] - 21s 3ms/step - loss: 5.9808e-04 - val_loss: 6.0005e-04\n",
            "Epoch 13/1000\n",
            "7365/7365 [==============================] - 21s 3ms/step - loss: 5.6423e-04 - val_loss: 6.0387e-04\n",
            "Epoch 14/1000\n",
            "7365/7365 [==============================] - 21s 3ms/step - loss: 5.6238e-04 - val_loss: 5.5047e-04\n",
            "Epoch 15/1000\n",
            "7365/7365 [==============================] - 20s 3ms/step - loss: 5.3156e-04 - val_loss: 5.4565e-04\n",
            "Epoch 16/1000\n",
            "7365/7365 [==============================] - 21s 3ms/step - loss: 5.3687e-04 - val_loss: 5.3493e-04\n",
            "Epoch 17/1000\n",
            "7365/7365 [==============================] - 21s 3ms/step - loss: 5.2675e-04 - val_loss: 5.9956e-04\n",
            "Epoch 18/1000\n",
            "7365/7365 [==============================] - 21s 3ms/step - loss: 5.0319e-04 - val_loss: 6.4217e-04\n",
            "Epoch 19/1000\n",
            "7365/7365 [==============================] - 21s 3ms/step - loss: 4.9779e-04 - val_loss: 5.3566e-04\n",
            "Epoch 20/1000\n",
            "7365/7365 [==============================] - 21s 3ms/step - loss: 4.9464e-04 - val_loss: 5.3922e-04\n",
            "Epoch 21/1000\n",
            "7365/7365 [==============================] - 20s 3ms/step - loss: 5.2472e-04 - val_loss: 6.5751e-04\n",
            "Epoch 22/1000\n",
            "7365/7365 [==============================] - 20s 3ms/step - loss: 4.8568e-04 - val_loss: 5.3313e-04\n",
            "Epoch 23/1000\n",
            "7365/7365 [==============================] - 21s 3ms/step - loss: 4.9350e-04 - val_loss: 0.0021\n",
            "Epoch 24/1000\n",
            "7365/7365 [==============================] - 21s 3ms/step - loss: 4.8159e-04 - val_loss: 5.6631e-04\n",
            "Epoch 25/1000\n",
            "7365/7365 [==============================] - 21s 3ms/step - loss: 4.7891e-04 - val_loss: 4.8560e-04\n",
            "Epoch 26/1000\n",
            "7365/7365 [==============================] - 20s 3ms/step - loss: 7.8241e-04 - val_loss: 4.9652e-04\n",
            "Epoch 27/1000\n",
            "7365/7365 [==============================] - 20s 3ms/step - loss: 4.5896e-04 - val_loss: 0.0073\n",
            "Epoch 28/1000\n",
            "7365/7365 [==============================] - 21s 3ms/step - loss: 4.7321e-04 - val_loss: 0.0026\n",
            "Epoch 29/1000\n",
            "7365/7365 [==============================] - 21s 3ms/step - loss: 4.6792e-04 - val_loss: 5.1645e-04\n",
            "Epoch 30/1000\n",
            "7365/7365 [==============================] - 20s 3ms/step - loss: 4.6453e-04 - val_loss: 0.0014\n",
            "Epoch 31/1000\n",
            "7365/7365 [==============================] - 20s 3ms/step - loss: 4.5930e-04 - val_loss: 6.5159e-04\n",
            "Epoch 32/1000\n",
            "7365/7365 [==============================] - 21s 3ms/step - loss: 4.7494e-04 - val_loss: 5.0075e-04\n",
            "Epoch 33/1000\n",
            "4429/7365 [=================>............] - ETA: 7s - loss: 4.1188e-04"
          ]
        }
      ]
    },
    {
      "cell_type": "markdown",
      "metadata": {
        "id": "M3jif8bhsbYI"
      },
      "source": [
        "# Visulalization of training performance"
      ]
    },
    {
      "cell_type": "code",
      "metadata": {
        "id": "gLmhlLIpRHDJ"
      },
      "source": [
        "plt.plot(history.history['loss'])\n",
        "plt.plot(history.history['val_loss'])\n",
        "plt.title('model accuracy')\n",
        "plt.ylabel('accuracy')\n",
        "plt.xlabel('epoch')\n",
        "plt.legend(['train', 'val'], loc='upper right')\n",
        "plt.show()\n",
        "plt.savefig(\"/content/drive/MyDrive/DDP/Dataset/DC_dataset/Model/DC_\" + model_name + \".png\")"
      ],
      "execution_count": null,
      "outputs": []
    },
    {
      "cell_type": "markdown",
      "metadata": {
        "id": "8CEs6C09soPw"
      },
      "source": [
        "# Save  the trained neural model"
      ]
    },
    {
      "cell_type": "code",
      "metadata": {
        "id": "yp9agU13ZQ8f"
      },
      "source": [
        " model.save(\"/content/drive/MyDrive/DDP/Dataset/DC_dataset/Model/DC_\" + model_name + \".h5\")"
      ],
      "execution_count": null,
      "outputs": []
    }
  ]
}
