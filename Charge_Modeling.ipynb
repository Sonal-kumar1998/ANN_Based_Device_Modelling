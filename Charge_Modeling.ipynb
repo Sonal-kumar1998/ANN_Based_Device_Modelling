{
  "nbformat": 4,
  "nbformat_minor": 0,
  "metadata": {
    "colab": {
      "name": "Charge_modeling.ipynb",
      "provenance": [],
      "collapsed_sections": [],
      "mount_file_id": "1arpviNMP3mKTwyL_3NFL4LgX98WxtDUw",
      "authorship_tag": "ABX9TyMptePcyEO9wdjnHbaRJ9Cd",
      "include_colab_link": true
    },
    "kernelspec": {
      "name": "python3",
      "display_name": "Python 3"
    },
    "language_info": {
      "name": "python"
    },
    "accelerator": "TPU"
  },
  "cells": [
    {
      "cell_type": "markdown",
      "metadata": {
        "id": "view-in-github",
        "colab_type": "text"
      },
      "source": [
        "<a href=\"https://colab.research.google.com/github/Sonal-kumar1998/ANN_Based_Device_Modelling/blob/main/Charge_modeling.ipynb\" target=\"_parent\"><img src=\"https://colab.research.google.com/assets/colab-badge.svg\" alt=\"Open In Colab\"/></a>"
      ]
    },
    {
      "cell_type": "code",
      "metadata": {
        "id": "rJy_KjDYXTPs"
      },
      "source": [
        "import torch\n",
        "import numpy as np\n",
        "import pandas as pd\n",
        "import torch.nn as nn\n",
        "from torch import optim\n",
        "import matplotlib.pyplot as plt\n",
        "from torch.utils.data import Dataset\n",
        "from tqdm import tqdm\n",
        "import time"
      ],
      "execution_count": null,
      "outputs": []
    },
    {
      "cell_type": "code",
      "source": [
        "data_path = \"/content/drive/MyDrive/DDP/AC_Model/Data/AC_Characterisation.csv\"\n",
        "training_dataset = pd.read_csv(data_path) \n",
        "training_dataset.head()"
      ],
      "metadata": {
        "colab": {
          "base_uri": "https://localhost:8080/",
          "height": 357
        },
        "id": "4gpkfTSupYs0",
        "outputId": "0d248aa4-da61-40d8-bc9e-06a8935c7a9b"
      },
      "execution_count": null,
      "outputs": [
        {
          "output_type": "execute_result",
          "data": {
            "text/html": [
              "\n",
              "  <div id=\"df-e59daa70-727a-48fd-9a27-1d01780adcbb\">\n",
              "    <div class=\"colab-df-container\">\n",
              "      <div>\n",
              "<style scoped>\n",
              "    .dataframe tbody tr th:only-of-type {\n",
              "        vertical-align: middle;\n",
              "    }\n",
              "\n",
              "    .dataframe tbody tr th {\n",
              "        vertical-align: top;\n",
              "    }\n",
              "\n",
              "    .dataframe thead th {\n",
              "        text-align: right;\n",
              "    }\n",
              "</style>\n",
              "<table border=\"1\" class=\"dataframe\">\n",
              "  <thead>\n",
              "    <tr style=\"text-align: right;\">\n",
              "      <th></th>\n",
              "      <th>#\"frequency\"</th>\n",
              "      <th>v(d)</th>\n",
              "      <th>v(s)</th>\n",
              "      <th>v(g)</th>\n",
              "      <th>v(b)</th>\n",
              "      <th>c(d,d)</th>\n",
              "      <th>c(d,s)</th>\n",
              "      <th>c(d,g)</th>\n",
              "      <th>c(d,b)</th>\n",
              "      <th>c(s,d)</th>\n",
              "      <th>c(s,s)</th>\n",
              "      <th>c(s,g)</th>\n",
              "      <th>c(s,b)</th>\n",
              "      <th>c(g,d)</th>\n",
              "      <th>c(g,s)</th>\n",
              "      <th>c(g,g)</th>\n",
              "      <th>c(g,b)</th>\n",
              "      <th>c(b,d)</th>\n",
              "      <th>c(b,s)</th>\n",
              "      <th>c(b,g)</th>\n",
              "      <th>c(b,b)</th>\n",
              "    </tr>\n",
              "  </thead>\n",
              "  <tbody>\n",
              "    <tr>\n",
              "      <th>0</th>\n",
              "      <td>2.400000e+09</td>\n",
              "      <td>-7.120000e-42</td>\n",
              "      <td>7.120000e-42</td>\n",
              "      <td>0.0</td>\n",
              "      <td>0.0</td>\n",
              "      <td>7.120000e-15</td>\n",
              "      <td>7.930000e-17</td>\n",
              "      <td>-6.110000e-15</td>\n",
              "      <td>-1.090000e-15</td>\n",
              "      <td>7.930000e-17</td>\n",
              "      <td>7.760000e-16</td>\n",
              "      <td>-4.340000e-16</td>\n",
              "      <td>-4.210000e-16</td>\n",
              "      <td>-6.110000e-15</td>\n",
              "      <td>-4.340000e-16</td>\n",
              "      <td>6.630000e-15</td>\n",
              "      <td>-8.550000e-17</td>\n",
              "      <td>-1.090000e-15</td>\n",
              "      <td>-4.210000e-16</td>\n",
              "      <td>-8.550000e-17</td>\n",
              "      <td>1.600000e-15</td>\n",
              "    </tr>\n",
              "    <tr>\n",
              "      <th>1</th>\n",
              "      <td>2.400000e+09</td>\n",
              "      <td>8.000000e-03</td>\n",
              "      <td>7.120000e-42</td>\n",
              "      <td>0.0</td>\n",
              "      <td>0.0</td>\n",
              "      <td>7.090000e-15</td>\n",
              "      <td>6.960000e-17</td>\n",
              "      <td>-6.070000e-15</td>\n",
              "      <td>-1.090000e-15</td>\n",
              "      <td>4.940000e-17</td>\n",
              "      <td>7.750000e-16</td>\n",
              "      <td>-4.070000e-16</td>\n",
              "      <td>-4.170000e-16</td>\n",
              "      <td>-6.050000e-15</td>\n",
              "      <td>-4.240000e-16</td>\n",
              "      <td>6.560000e-15</td>\n",
              "      <td>-8.560000e-17</td>\n",
              "      <td>-1.090000e-15</td>\n",
              "      <td>-4.200000e-16</td>\n",
              "      <td>-8.590000e-17</td>\n",
              "      <td>1.590000e-15</td>\n",
              "    </tr>\n",
              "    <tr>\n",
              "      <th>2</th>\n",
              "      <td>2.400000e+09</td>\n",
              "      <td>1.600000e-02</td>\n",
              "      <td>-1.270000e-33</td>\n",
              "      <td>0.0</td>\n",
              "      <td>0.0</td>\n",
              "      <td>7.050000e-15</td>\n",
              "      <td>6.160000e-17</td>\n",
              "      <td>-6.020000e-15</td>\n",
              "      <td>-1.090000e-15</td>\n",
              "      <td>2.760000e-17</td>\n",
              "      <td>7.740000e-16</td>\n",
              "      <td>-3.870000e-16</td>\n",
              "      <td>-4.140000e-16</td>\n",
              "      <td>-5.990000e-15</td>\n",
              "      <td>-4.160000e-16</td>\n",
              "      <td>6.490000e-15</td>\n",
              "      <td>-8.630000e-17</td>\n",
              "      <td>-1.080000e-15</td>\n",
              "      <td>-4.200000e-16</td>\n",
              "      <td>-8.670000e-17</td>\n",
              "      <td>1.590000e-15</td>\n",
              "    </tr>\n",
              "    <tr>\n",
              "      <th>3</th>\n",
              "      <td>2.400000e+09</td>\n",
              "      <td>2.400000e-02</td>\n",
              "      <td>-3.820000e-33</td>\n",
              "      <td>0.0</td>\n",
              "      <td>0.0</td>\n",
              "      <td>6.990000e-15</td>\n",
              "      <td>5.570000e-17</td>\n",
              "      <td>-5.960000e-15</td>\n",
              "      <td>-1.090000e-15</td>\n",
              "      <td>1.270000e-17</td>\n",
              "      <td>7.730000e-16</td>\n",
              "      <td>-3.740000e-16</td>\n",
              "      <td>-4.120000e-16</td>\n",
              "      <td>-5.920000e-15</td>\n",
              "      <td>-4.100000e-16</td>\n",
              "      <td>6.420000e-15</td>\n",
              "      <td>-8.730000e-17</td>\n",
              "      <td>-1.080000e-15</td>\n",
              "      <td>-4.190000e-16</td>\n",
              "      <td>-8.780000e-17</td>\n",
              "      <td>1.590000e-15</td>\n",
              "    </tr>\n",
              "    <tr>\n",
              "      <th>4</th>\n",
              "      <td>2.400000e+09</td>\n",
              "      <td>3.200000e-02</td>\n",
              "      <td>-5.220000e-30</td>\n",
              "      <td>0.0</td>\n",
              "      <td>0.0</td>\n",
              "      <td>6.910000e-15</td>\n",
              "      <td>5.160000e-17</td>\n",
              "      <td>-5.880000e-15</td>\n",
              "      <td>-1.080000e-15</td>\n",
              "      <td>3.040000e-18</td>\n",
              "      <td>7.730000e-16</td>\n",
              "      <td>-3.650000e-16</td>\n",
              "      <td>-4.110000e-16</td>\n",
              "      <td>-5.840000e-15</td>\n",
              "      <td>-4.060000e-16</td>\n",
              "      <td>6.340000e-15</td>\n",
              "      <td>-8.860000e-17</td>\n",
              "      <td>-1.070000e-15</td>\n",
              "      <td>-4.180000e-16</td>\n",
              "      <td>-8.910000e-17</td>\n",
              "      <td>1.580000e-15</td>\n",
              "    </tr>\n",
              "  </tbody>\n",
              "</table>\n",
              "</div>\n",
              "      <button class=\"colab-df-convert\" onclick=\"convertToInteractive('df-e59daa70-727a-48fd-9a27-1d01780adcbb')\"\n",
              "              title=\"Convert this dataframe to an interactive table.\"\n",
              "              style=\"display:none;\">\n",
              "        \n",
              "  <svg xmlns=\"http://www.w3.org/2000/svg\" height=\"24px\"viewBox=\"0 0 24 24\"\n",
              "       width=\"24px\">\n",
              "    <path d=\"M0 0h24v24H0V0z\" fill=\"none\"/>\n",
              "    <path d=\"M18.56 5.44l.94 2.06.94-2.06 2.06-.94-2.06-.94-.94-2.06-.94 2.06-2.06.94zm-11 1L8.5 8.5l.94-2.06 2.06-.94-2.06-.94L8.5 2.5l-.94 2.06-2.06.94zm10 10l.94 2.06.94-2.06 2.06-.94-2.06-.94-.94-2.06-.94 2.06-2.06.94z\"/><path d=\"M17.41 7.96l-1.37-1.37c-.4-.4-.92-.59-1.43-.59-.52 0-1.04.2-1.43.59L10.3 9.45l-7.72 7.72c-.78.78-.78 2.05 0 2.83L4 21.41c.39.39.9.59 1.41.59.51 0 1.02-.2 1.41-.59l7.78-7.78 2.81-2.81c.8-.78.8-2.07 0-2.86zM5.41 20L4 18.59l7.72-7.72 1.47 1.35L5.41 20z\"/>\n",
              "  </svg>\n",
              "      </button>\n",
              "      \n",
              "  <style>\n",
              "    .colab-df-container {\n",
              "      display:flex;\n",
              "      flex-wrap:wrap;\n",
              "      gap: 12px;\n",
              "    }\n",
              "\n",
              "    .colab-df-convert {\n",
              "      background-color: #E8F0FE;\n",
              "      border: none;\n",
              "      border-radius: 50%;\n",
              "      cursor: pointer;\n",
              "      display: none;\n",
              "      fill: #1967D2;\n",
              "      height: 32px;\n",
              "      padding: 0 0 0 0;\n",
              "      width: 32px;\n",
              "    }\n",
              "\n",
              "    .colab-df-convert:hover {\n",
              "      background-color: #E2EBFA;\n",
              "      box-shadow: 0px 1px 2px rgba(60, 64, 67, 0.3), 0px 1px 3px 1px rgba(60, 64, 67, 0.15);\n",
              "      fill: #174EA6;\n",
              "    }\n",
              "\n",
              "    [theme=dark] .colab-df-convert {\n",
              "      background-color: #3B4455;\n",
              "      fill: #D2E3FC;\n",
              "    }\n",
              "\n",
              "    [theme=dark] .colab-df-convert:hover {\n",
              "      background-color: #434B5C;\n",
              "      box-shadow: 0px 1px 3px 1px rgba(0, 0, 0, 0.15);\n",
              "      filter: drop-shadow(0px 1px 2px rgba(0, 0, 0, 0.3));\n",
              "      fill: #FFFFFF;\n",
              "    }\n",
              "  </style>\n",
              "\n",
              "      <script>\n",
              "        const buttonEl =\n",
              "          document.querySelector('#df-e59daa70-727a-48fd-9a27-1d01780adcbb button.colab-df-convert');\n",
              "        buttonEl.style.display =\n",
              "          google.colab.kernel.accessAllowed ? 'block' : 'none';\n",
              "\n",
              "        async function convertToInteractive(key) {\n",
              "          const element = document.querySelector('#df-e59daa70-727a-48fd-9a27-1d01780adcbb');\n",
              "          const dataTable =\n",
              "            await google.colab.kernel.invokeFunction('convertToInteractive',\n",
              "                                                     [key], {});\n",
              "          if (!dataTable) return;\n",
              "\n",
              "          const docLinkHtml = 'Like what you see? Visit the ' +\n",
              "            '<a target=\"_blank\" href=https://colab.research.google.com/notebooks/data_table.ipynb>data table notebook</a>'\n",
              "            + ' to learn more about interactive tables.';\n",
              "          element.innerHTML = '';\n",
              "          dataTable['output_type'] = 'display_data';\n",
              "          await google.colab.output.renderOutput(dataTable, element);\n",
              "          const docLink = document.createElement('div');\n",
              "          docLink.innerHTML = docLinkHtml;\n",
              "          element.appendChild(docLink);\n",
              "        }\n",
              "      </script>\n",
              "    </div>\n",
              "  </div>\n",
              "  "
            ],
            "text/plain": [
              "   #\"frequency\"          v(d)  ...        c(b,g)        c(b,b)\n",
              "0  2.400000e+09 -7.120000e-42  ... -8.550000e-17  1.600000e-15\n",
              "1  2.400000e+09  8.000000e-03  ... -8.590000e-17  1.590000e-15\n",
              "2  2.400000e+09  1.600000e-02  ... -8.670000e-17  1.590000e-15\n",
              "3  2.400000e+09  2.400000e-02  ... -8.780000e-17  1.590000e-15\n",
              "4  2.400000e+09  3.200000e-02  ... -8.910000e-17  1.580000e-15\n",
              "\n",
              "[5 rows x 21 columns]"
            ]
          },
          "metadata": {},
          "execution_count": 2
        }
      ]
    },
    {
      "cell_type": "markdown",
      "metadata": {
        "id": "9qiv_PsLWlTO"
      },
      "source": [
        "#Convert dataset into pytorch input and output format  \n",
        "\n"
      ]
    },
    {
      "cell_type": "code",
      "metadata": {
        "colab": {
          "base_uri": "https://localhost:8080/"
        },
        "id": "UNBLWjZMhANu",
        "outputId": "f26a9401-0653-429a-af24-e4b28f6f8a2e"
      },
      "source": [
        "#data_path = \"/content/drive/MyDrive/DDP/AC_Model/Data/AC_Characterisation.csv\"\n",
        "class training_dataset(Dataset):\n",
        "  def __init__(self):\n",
        "  \n",
        "    data_set = pd.read_csv(data_path)                     # directory of the training dataset\n",
        "    column_x = [\"v(d)\",\t\"v(g)\",\t\"v(b)\"]                   #input column of the training dataset\n",
        "    column_y = [\"c(d,d)\", \"c(d,g)\",\"c(d,b)\"]              #output column of the trainng datset\n",
        "\n",
        "    self.x = torch.tensor(data_set[column_x].values, requires_grad= True) \n",
        "    self.y = torch.tensor(data_set[column_y].values)*10**15     \n",
        "    self.n_samples = data_set.shape[0]                   \n",
        "\n",
        "  def __getitem__(self , index):\n",
        "    return self.x[index], self.y[index]\n",
        "\n",
        "  def __len__(self):\n",
        "    return self.n_samples\n",
        "\n",
        "###################################################\n",
        "dataset = training_dataset()     # class of the dataset\n",
        "first_data = dataset[0]          # first element of the dataset\n",
        "feature, label = first_data      # feature and label of the dataset\n",
        "print(feature)\n",
        "print(label)\n",
        "print(f\"Total number of sample in training dataset is {len(dataset)}\")"
      ],
      "execution_count": null,
      "outputs": [
        {
          "output_type": "stream",
          "name": "stdout",
          "text": [
            "tensor([-7.1200e-42,  0.0000e+00,  0.0000e+00], dtype=torch.float64,\n",
            "       grad_fn=<SelectBackward0>)\n",
            "tensor([ 7.1200, -6.1100, -1.0900], dtype=torch.float64)\n",
            "Total number of sample in training dataset is 113726\n"
          ]
        }
      ]
    },
    {
      "cell_type": "markdown",
      "metadata": {
        "id": "6sZGiHyBXH-6"
      },
      "source": [
        "#Divide the training dataset into batch of training dataset"
      ]
    },
    {
      "cell_type": "code",
      "metadata": {
        "id": "5MskWI5yjgDb",
        "colab": {
          "base_uri": "https://localhost:8080/"
        },
        "outputId": "303eaf0b-66e5-4d1b-9034-60fb2caa69e3"
      },
      "source": [
        "batch_size = 128                                                   # number of sample in one batch\n",
        "training_set = torch.utils.data.DataLoader(dataset = dataset, batch_size = batch_size, shuffle= True)\n",
        "print(f\"Total number of batch in trainig dataset is {len(training_set)}\")"
      ],
      "execution_count": null,
      "outputs": [
        {
          "output_type": "stream",
          "name": "stdout",
          "text": [
            "Total number of batch in trainig dataset is 889\n"
          ]
        }
      ]
    },
    {
      "cell_type": "markdown",
      "source": [
        "# Defined the pytorch model"
      ],
      "metadata": {
        "id": "yMToubY5RMaA"
      }
    },
    {
      "cell_type": "code",
      "metadata": {
        "id": "0CqW9U1JjgIW"
      },
      "source": [
        "class Model(nn.Module):\n",
        "    def __init__(self,n_feature):\n",
        "        super(Model, self).__init__()\n",
        "        self.lin1 = nn.Linear(n_feature,10)\n",
        "        self.lin2 = nn.Linear(10,10)\n",
        "        self.lin3 = nn.Linear(10,5)\n",
        "        self.lin4 = nn.Linear(5,1)\n",
        "        #self.lin5 = nn.Linear(10,1)\n",
        "    def forward(self, x):\n",
        "        x = torch.tanh(self.lin1(x))\n",
        "        x = torch.tanh(self.lin2(x))\n",
        "        x = torch.tanh(self.lin3(x))\n",
        "        x = self.lin4(x)\n",
        "        #x = self.lin5(x)\n",
        "        return x"
      ],
      "execution_count": null,
      "outputs": []
    },
    {
      "cell_type": "markdown",
      "metadata": {
        "id": "b5AbEexemS4Q"
      },
      "source": [
        "#Defined loss function of the model\n"
      ]
    },
    {
      "cell_type": "code",
      "metadata": {
        "id": "kfwNVTb3N8KN"
      },
      "source": [
        "def my_loss(output, input, target):\n",
        "  dydx = torch.autograd.grad(output, input, grad_outputs=output.data.new(output.shape).fill_(1),\n",
        "  create_graph=True, retain_graph=True)[0]\n",
        "  loss = torch.mean((dydx - target)**2)\n",
        "  return loss"
      ],
      "execution_count": null,
      "outputs": []
    },
    {
      "cell_type": "markdown",
      "source": [
        "# Create the instance of Model and defined the optimizer"
      ],
      "metadata": {
        "id": "maYjk_5CTEM7"
      }
    },
    {
      "cell_type": "code",
      "metadata": {
        "id": "9aOMYv_cYLUB"
      },
      "source": [
        "model = Model(n_feature = 3)                                                 # model instance \n",
        "learning_rate = 0.001                                                        # learning rate\n",
        "#criterion = torch.nn.MSELoss()                                              # inbuilt loss function\n",
        "optimizer = torch.optim.Adam(model.parameters(), lr=learning_rate)           # optimizer of ANN Model"
      ],
      "execution_count": null,
      "outputs": []
    },
    {
      "cell_type": "markdown",
      "source": [
        "#Training Loop"
      ],
      "metadata": {
        "id": "v16u6j2kqIMD"
      }
    },
    {
      "cell_type": "code",
      "metadata": {
        "id": "TuzhP_j2YU8Z",
        "colab": {
          "base_uri": "https://localhost:8080/"
        },
        "outputId": "e7f1f2b0-a96d-49cb-f594-bc544a0a37b6"
      },
      "source": [
        "num_epochs = 2\n",
        "n_total_steps = len(training_set)\n",
        "for epoch in range(num_epochs):\n",
        "  for i,(x_train, y_train) in tqdm(enumerate(training_set), desc = 'Number of iteration'):\n",
        "    x_train  = x_train.float()\n",
        "    y_train  = y_train.float()\n",
        "    x_train.requires_grad_(True)\n",
        "    outputs = model(x_train)\n",
        "    \n",
        "    # Calculation of the loss \n",
        "    loss = my_loss(outputs,x_train, y_train)\n",
        "    \n",
        "    #Calculation of gradient of loss with respect to the model parameter\n",
        "    loss.backward() \n",
        "\n",
        "    #Update the Model parameter  \n",
        "    optimizer.step() \n",
        "\n",
        "    #initialized the derivative to zero\n",
        "    optimizer.zero_grad()     \n",
        "     \n",
        "    # if (i+1)% 100 ==0:\n",
        "    #   print(f\"epoch {epoch+1} / {num_epochs}, step {i+1}/{n_total_steps}, loss ={loss.item():.4f}\")\n",
        "  print(f\" epoch {epoch+1}/{num_epochs}, loss = {loss.item():.4f}\")"
      ],
      "execution_count": null,
      "outputs": [
        {
          "output_type": "stream",
          "name": "stderr",
          "text": [
            "Number of iteration: 889it [02:41,  5.52it/s]\n"
          ]
        },
        {
          "output_type": "stream",
          "name": "stdout",
          "text": [
            " epoch 1/2, loss = 0.5656\n"
          ]
        },
        {
          "output_type": "stream",
          "name": "stderr",
          "text": [
            "Number of iteration: 889it [02:16,  6.50it/s]"
          ]
        },
        {
          "output_type": "stream",
          "name": "stdout",
          "text": [
            " epoch 2/2, loss = 0.1592\n"
          ]
        },
        {
          "output_type": "stream",
          "name": "stderr",
          "text": [
            "\n"
          ]
        }
      ]
    },
    {
      "cell_type": "markdown",
      "metadata": {
        "id": "Pzgcy1y4vWSm"
      },
      "source": [
        "# Save the model as dictionary based\n",
        "\n"
      ]
    },
    {
      "cell_type": "code",
      "source": [
        "model_path = \"/content/drive/MyDrive/DDP/AC_Model/AC_Model/source_charge_model.pth\"\n",
        "torch.save(model.state_dict(), model_path)"
      ],
      "metadata": {
        "id": "5aL-nc-lJmed"
      },
      "execution_count": null,
      "outputs": []
    },
    {
      "cell_type": "markdown",
      "source": [
        "#Load the model"
      ],
      "metadata": {
        "id": "gQmNE2Mu75yi"
      }
    },
    {
      "cell_type": "code",
      "source": [
        "#model_path = \"/content/drive/MyDrive/DDP/AC_Model/AC_Model/drain_charge_model.pth\"\n",
        "model = Model(n_feature = 3)\n",
        "model.load_state_dict(torch.load(model_path))"
      ],
      "metadata": {
        "colab": {
          "base_uri": "https://localhost:8080/"
        },
        "id": "HVCjzTirJ4Zk",
        "outputId": "d75e7ecd-135a-4730-de27-9a55c5acac35"
      },
      "execution_count": null,
      "outputs": [
        {
          "output_type": "execute_result",
          "data": {
            "text/plain": [
              "<All keys matched successfully>"
            ]
          },
          "metadata": {},
          "execution_count": 16
        }
      ]
    },
    {
      "cell_type": "code",
      "metadata": {
        "id": "yaTSUqxXwFou"
      },
      "source": [
        "def  plot_charge(gate_volatges):\n",
        "  for gate in gate_volatges:\n",
        "    data_set = pd.read_csv(\"/content/drive/MyDrive/DDP/AC_Model/Data/AC_Characterisation.csv\")\n",
        "    data_set = data_set.loc[data_set[\"v(g)\"].isin([gate])]\n",
        "    data_set.sort_values(by=\"v(d)\")\n",
        "    column_x = [\"v(d)\",\t\"v(g)\",\t\"v(b)\"]\n",
        "    input = torch.tensor(data_set[column_x].values , dtype = torch.float32)\n",
        "    x = data_set[\"v(d)\"]\n",
        "    output = model(input)\n",
        "    output = output/(10**15)\n",
        "    plt.plot(x,output.detach().numpy(),label = \"Vgs = \"+ str(gate))\n",
        "  plt.xlabel(\"Drain Voltage (Vds)\")\n",
        "  plt.ylabel(\"Drain terminal charge (Qd)\")\n",
        "  plt.title(\"Qd Vs Vds\")\n",
        "  plt.xticks(np.arange(0,9,1))\n",
        "  plt.grid(b=True, which='both', axis='both')\n",
        "  plt.legend(loc =\"lower right\")\n",
        "  plt.savefig(\"/content/drive/MyDrive/DDP/AC_Model/Plot/Q-V_Plot/\" + \"source_charge\")"
      ],
      "execution_count": null,
      "outputs": []
    },
    {
      "cell_type": "code",
      "metadata": {
        "colab": {
          "base_uri": "https://localhost:8080/",
          "height": 295
        },
        "id": "L7dnLRJTxrG8",
        "outputId": "9ae2ae99-825f-4916-a077-0ce096cdd022"
      },
      "source": [
        "plot_charge([0.2,0.4,0.6,0.8,1.0,1.2,1.4,1.6])"
      ],
      "execution_count": null,
      "outputs": [
        {
          "output_type": "display_data",
          "data": {
            "image/png": "[encoded data removed]",
            "text/plain": [
              "<Figure size 432x288 with 1 Axes>"
            ]
          },
          "metadata": {
            "needs_background": "light"
          }
        }
      ]
    },
    {
      "cell_type": "code",
      "metadata": {
        "id": "HUDPlTxYxrJi"
      },
      "source": [
        ""
      ],
      "execution_count": null,
      "outputs": []
    }
  ]
}
