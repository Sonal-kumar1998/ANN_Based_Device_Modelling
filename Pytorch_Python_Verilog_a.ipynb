{
  "nbformat": 4,
  "nbformat_minor": 0,
  "metadata": {
    "colab": {
      "name": "Pytorch_Python_Verilog-a.ipynb",
      "provenance": [],
      "collapsed_sections": [],
      "mount_file_id": "1eyxpF139Cj0dsxoCx57F1mczwoAwY6Dv",
      "authorship_tag": "ABX9TyPfEat8UgMG2Pe1LF8tT+NS",
      "include_colab_link": true
    },
    "kernelspec": {
      "name": "python3",
      "display_name": "Python 3"
    },
    "language_info": {
      "name": "python"
    }
  },
  "cells": [
    {
      "cell_type": "markdown",
      "metadata": {
        "id": "view-in-github",
        "colab_type": "text"
      },
      "source": [
        "<a href=\"https://colab.research.google.com/github/Sonal-kumar1998/ANN_Based_Device_Modelling/blob/main/Pytorch_Python_Verilog_a.ipynb\" target=\"_parent\"><img src=\"https://colab.research.google.com/assets/colab-badge.svg\" alt=\"Open In Colab\"/></a>"
      ]
    },
    {
      "cell_type": "code",
      "execution_count": 1,
      "metadata": {
        "id": "xWrvRVQion3d"
      },
      "outputs": [],
      "source": [
        "import math\n",
        "import torch\n",
        "import numpy as np\n",
        "import pandas as pd\n",
        "import torch.nn as nn\n",
        "import matplotlib.pyplot as plt\n",
        "from keras.models import load_model"
      ]
    },
    {
      "cell_type": "code",
      "source": [
        "def inv_con_fn(vds, x):\n",
        "  I_0 = 10**(-12) \n",
        "  x = np.power(10,x)\n",
        "  x = np.multiply(x,vds)\n",
        "  x  = I_0*x\n",
        "  return x"
      ],
      "metadata": {
        "id": "nuNwF67mpNJs"
      },
      "execution_count": 2,
      "outputs": []
    },
    {
      "cell_type": "markdown",
      "source": [
        "# Input data "
      ],
      "metadata": {
        "id": "8yKQJpA7auJm"
      }
    },
    {
      "cell_type": "code",
      "source": [
        "data_path = \"/content/drive/MyDrive/DDP/DC_model/Data/test_data_set.csv\"\n",
        "data_set = pd.read_csv(data_path)\n",
        "data_set = data_set[data_set['#\"gate OuterVoltage\"'] == 1.1]\n",
        "data_set = data_set.sort_values(by=\"drain OuterVoltage\")\n",
        "input = ['V_gs',\t'V_ds',\t'V_bs']\n",
        "\n",
        "input_data = data_set[input]\n",
        "voltage = [\"V_ds\"]\n",
        "V_ds = data_set[voltage]\n",
        "V_ds = V_ds.to_numpy()\n",
        "data_set.head()"
      ],
      "metadata": {
        "colab": {
          "base_uri": "https://localhost:8080/",
          "height": 354
        },
        "id": "gAnTl_aao0gB",
        "outputId": "be35f8ee-92d1-4f6a-e4b9-95c6fcd222d1"
      },
      "execution_count": 3,
      "outputs": [
        {
          "output_type": "execute_result",
          "data": {
            "text/plain": [
              "       Unnamed: 0  #\"gate OuterVoltage\"  drain OuterVoltage  \\\n",
              "5628        61901                   1.1       -4.660000e-37   \n",
              "27013      259328                   1.1        4.470000e-36   \n",
              "94554      941467                   1.1        4.670000e-36   \n",
              "23636      235229                   1.1        6.550000e-36   \n",
              "12381      121556                   1.1        1.740000e-35   \n",
              "\n",
              "       drain TotalCurrent  substrate OuterVoltage  source OuterVoltage  V_gs  \\\n",
              "5628        -8.300000e-17                     0.0         9.900000e-37   1.1   \n",
              "27013        3.910000e-16                    -0.8         2.380000e-36   1.1   \n",
              "94554        1.020000e-16                    -0.2         1.190000e-35   1.1   \n",
              "23636        3.730000e-16                    -0.9        -6.150000e-36   1.1   \n",
              "12381        2.050000e-16                    -1.0         1.790000e-35   1.1   \n",
              "\n",
              "               V_ds          V_bs  converted_Ids  \n",
              "5628  -1.456000e-36 -9.900000e-37      32.250692  \n",
              "27013  2.090000e-36 -8.000000e-01      31.941869  \n",
              "94554 -7.230000e-36 -2.000000e-01      31.339283  \n",
              "23636  1.270000e-35 -9.000000e-01      31.755468  \n",
              "12381 -5.000000e-37 -1.000000e+00      31.071205  "
            ],
            "text/html": [
              "\n",
              "  <div id=\"df-8f584335-7c7d-4731-a9e5-0f125ff9ec72\">\n",
              "    <div class=\"colab-df-container\">\n",
              "      <div>\n",
              "<style scoped>\n",
              "    .dataframe tbody tr th:only-of-type {\n",
              "        vertical-align: middle;\n",
              "    }\n",
              "\n",
              "    .dataframe tbody tr th {\n",
              "        vertical-align: top;\n",
              "    }\n",
              "\n",
              "    .dataframe thead th {\n",
              "        text-align: right;\n",
              "    }\n",
              "</style>\n",
              "<table border=\"1\" class=\"dataframe\">\n",
              "  <thead>\n",
              "    <tr style=\"text-align: right;\">\n",
              "      <th></th>\n",
              "      <th>Unnamed: 0</th>\n",
              "      <th>#\"gate OuterVoltage\"</th>\n",
              "      <th>drain OuterVoltage</th>\n",
              "      <th>drain TotalCurrent</th>\n",
              "      <th>substrate OuterVoltage</th>\n",
              "      <th>source OuterVoltage</th>\n",
              "      <th>V_gs</th>\n",
              "      <th>V_ds</th>\n",
              "      <th>V_bs</th>\n",
              "      <th>converted_Ids</th>\n",
              "    </tr>\n",
              "  </thead>\n",
              "  <tbody>\n",
              "    <tr>\n",
              "      <th>5628</th>\n",
              "      <td>61901</td>\n",
              "      <td>1.1</td>\n",
              "      <td>-4.660000e-37</td>\n",
              "      <td>-8.300000e-17</td>\n",
              "      <td>0.0</td>\n",
              "      <td>9.900000e-37</td>\n",
              "      <td>1.1</td>\n",
              "      <td>-1.456000e-36</td>\n",
              "      <td>-9.900000e-37</td>\n",
              "      <td>32.250692</td>\n",
              "    </tr>\n",
              "    <tr>\n",
              "      <th>27013</th>\n",
              "      <td>259328</td>\n",
              "      <td>1.1</td>\n",
              "      <td>4.470000e-36</td>\n",
              "      <td>3.910000e-16</td>\n",
              "      <td>-0.8</td>\n",
              "      <td>2.380000e-36</td>\n",
              "      <td>1.1</td>\n",
              "      <td>2.090000e-36</td>\n",
              "      <td>-8.000000e-01</td>\n",
              "      <td>31.941869</td>\n",
              "    </tr>\n",
              "    <tr>\n",
              "      <th>94554</th>\n",
              "      <td>941467</td>\n",
              "      <td>1.1</td>\n",
              "      <td>4.670000e-36</td>\n",
              "      <td>1.020000e-16</td>\n",
              "      <td>-0.2</td>\n",
              "      <td>1.190000e-35</td>\n",
              "      <td>1.1</td>\n",
              "      <td>-7.230000e-36</td>\n",
              "      <td>-2.000000e-01</td>\n",
              "      <td>31.339283</td>\n",
              "    </tr>\n",
              "    <tr>\n",
              "      <th>23636</th>\n",
              "      <td>235229</td>\n",
              "      <td>1.1</td>\n",
              "      <td>6.550000e-36</td>\n",
              "      <td>3.730000e-16</td>\n",
              "      <td>-0.9</td>\n",
              "      <td>-6.150000e-36</td>\n",
              "      <td>1.1</td>\n",
              "      <td>1.270000e-35</td>\n",
              "      <td>-9.000000e-01</td>\n",
              "      <td>31.755468</td>\n",
              "    </tr>\n",
              "    <tr>\n",
              "      <th>12381</th>\n",
              "      <td>121556</td>\n",
              "      <td>1.1</td>\n",
              "      <td>1.740000e-35</td>\n",
              "      <td>2.050000e-16</td>\n",
              "      <td>-1.0</td>\n",
              "      <td>1.790000e-35</td>\n",
              "      <td>1.1</td>\n",
              "      <td>-5.000000e-37</td>\n",
              "      <td>-1.000000e+00</td>\n",
              "      <td>31.071205</td>\n",
              "    </tr>\n",
              "  </tbody>\n",
              "</table>\n",
              "</div>\n",
              "      <button class=\"colab-df-convert\" onclick=\"convertToInteractive('df-8f584335-7c7d-4731-a9e5-0f125ff9ec72')\"\n",
              "              title=\"Convert this dataframe to an interactive table.\"\n",
              "              style=\"display:none;\">\n",
              "        \n",
              "  <svg xmlns=\"http://www.w3.org/2000/svg\" height=\"24px\"viewBox=\"0 0 24 24\"\n",
              "       width=\"24px\">\n",
              "    <path d=\"M0 0h24v24H0V0z\" fill=\"none\"/>\n",
              "    <path d=\"M18.56 5.44l.94 2.06.94-2.06 2.06-.94-2.06-.94-.94-2.06-.94 2.06-2.06.94zm-11 1L8.5 8.5l.94-2.06 2.06-.94-2.06-.94L8.5 2.5l-.94 2.06-2.06.94zm10 10l.94 2.06.94-2.06 2.06-.94-2.06-.94-.94-2.06-.94 2.06-2.06.94z\"/><path d=\"M17.41 7.96l-1.37-1.37c-.4-.4-.92-.59-1.43-.59-.52 0-1.04.2-1.43.59L10.3 9.45l-7.72 7.72c-.78.78-.78 2.05 0 2.83L4 21.41c.39.39.9.59 1.41.59.51 0 1.02-.2 1.41-.59l7.78-7.78 2.81-2.81c.8-.78.8-2.07 0-2.86zM5.41 20L4 18.59l7.72-7.72 1.47 1.35L5.41 20z\"/>\n",
              "  </svg>\n",
              "      </button>\n",
              "      \n",
              "  <style>\n",
              "    .colab-df-container {\n",
              "      display:flex;\n",
              "      flex-wrap:wrap;\n",
              "      gap: 12px;\n",
              "    }\n",
              "\n",
              "    .colab-df-convert {\n",
              "      background-color: #E8F0FE;\n",
              "      border: none;\n",
              "      border-radius: 50%;\n",
              "      cursor: pointer;\n",
              "      display: none;\n",
              "      fill: #1967D2;\n",
              "      height: 32px;\n",
              "      padding: 0 0 0 0;\n",
              "      width: 32px;\n",
              "    }\n",
              "\n",
              "    .colab-df-convert:hover {\n",
              "      background-color: #E2EBFA;\n",
              "      box-shadow: 0px 1px 2px rgba(60, 64, 67, 0.3), 0px 1px 3px 1px rgba(60, 64, 67, 0.15);\n",
              "      fill: #174EA6;\n",
              "    }\n",
              "\n",
              "    [theme=dark] .colab-df-convert {\n",
              "      background-color: #3B4455;\n",
              "      fill: #D2E3FC;\n",
              "    }\n",
              "\n",
              "    [theme=dark] .colab-df-convert:hover {\n",
              "      background-color: #434B5C;\n",
              "      box-shadow: 0px 1px 3px 1px rgba(0, 0, 0, 0.15);\n",
              "      filter: drop-shadow(0px 1px 2px rgba(0, 0, 0, 0.3));\n",
              "      fill: #FFFFFF;\n",
              "    }\n",
              "  </style>\n",
              "\n",
              "      <script>\n",
              "        const buttonEl =\n",
              "          document.querySelector('#df-8f584335-7c7d-4731-a9e5-0f125ff9ec72 button.colab-df-convert');\n",
              "        buttonEl.style.display =\n",
              "          google.colab.kernel.accessAllowed ? 'block' : 'none';\n",
              "\n",
              "        async function convertToInteractive(key) {\n",
              "          const element = document.querySelector('#df-8f584335-7c7d-4731-a9e5-0f125ff9ec72');\n",
              "          const dataTable =\n",
              "            await google.colab.kernel.invokeFunction('convertToInteractive',\n",
              "                                                     [key], {});\n",
              "          if (!dataTable) return;\n",
              "\n",
              "          const docLinkHtml = 'Like what you see? Visit the ' +\n",
              "            '<a target=\"_blank\" href=https://colab.research.google.com/notebooks/data_table.ipynb>data table notebook</a>'\n",
              "            + ' to learn more about interactive tables.';\n",
              "          element.innerHTML = '';\n",
              "          dataTable['output_type'] = 'display_data';\n",
              "          await google.colab.output.renderOutput(dataTable, element);\n",
              "          const docLink = document.createElement('div');\n",
              "          docLink.innerHTML = docLinkHtml;\n",
              "          element.appendChild(docLink);\n",
              "        }\n",
              "      </script>\n",
              "    </div>\n",
              "  </div>\n",
              "  "
            ]
          },
          "metadata": {},
          "execution_count": 3
        }
      ]
    },
    {
      "cell_type": "markdown",
      "source": [
        "#DC Model in the Pytorch"
      ],
      "metadata": {
        "id": "ABedNCfaamz-"
      }
    },
    {
      "cell_type": "code",
      "source": [
        "# intanciate of DC Model\n",
        "DC_model_path = '/content/drive/MyDrive/DDP/DC_model/Dc_Model/DC_10105.h5'\n",
        "dc_model_pytorch= load_model(DC_model_path)\n",
        "dc_model_pytorch.summary()"
      ],
      "metadata": {
        "colab": {
          "base_uri": "https://localhost:8080/"
        },
        "id": "RK5XFrvZouDo",
        "outputId": "373a46cf-da88-4438-d438-1c60f200aad7"
      },
      "execution_count": 4,
      "outputs": [
        {
          "output_type": "stream",
          "name": "stdout",
          "text": [
            "Model: \"sequential\"\n",
            "_________________________________________________________________\n",
            " Layer (type)                Output Shape              Param #   \n",
            "=================================================================\n",
            " dense (Dense)               (None, 10)                40        \n",
            "                                                                 \n",
            " dense_1 (Dense)             (None, 10)                110       \n",
            "                                                                 \n",
            " dense_2 (Dense)             (None, 5)                 55        \n",
            "                                                                 \n",
            " dense_3 (Dense)             (None, 1)                 6         \n",
            "                                                                 \n",
            "=================================================================\n",
            "Total params: 211\n",
            "Trainable params: 211\n",
            "Non-trainable params: 0\n",
            "_________________________________________________________________\n"
          ]
        }
      ]
    },
    {
      "cell_type": "code",
      "source": [
        "# DC currrent prediction before inversion function\n",
        "Yds_pytorch = dc_model_pytorch.predict(input_data)\n",
        "Ids_pytorch = inv_con_fn(V_ds, Yds_pytorch)"
      ],
      "metadata": {
        "id": "9am3eVH-pof9"
      },
      "execution_count": 5,
      "outputs": []
    },
    {
      "cell_type": "markdown",
      "source": [
        "#DC model in the python\n"
      ],
      "metadata": {
        "id": "ZHinmcQtYRHI"
      }
    },
    {
      "cell_type": "code",
      "source": [
        "global w1,b1,w2,b2,w3,b3,w4,b4\n",
        "\n",
        "\n",
        "# weights and bias of layer 1\n",
        "w1 = dc_model_pytorch.layers[0].get_weights()[0]\n",
        "d1 = dc_model_pytorch.layers[0].get_weights()[1]\n",
        "b1 = d1.reshape(1,d1.shape[0])\n",
        "# print(w1.shape)\n",
        "# print(b1.shape)\n",
        "\n",
        "# weights and bias of layer 2\n",
        "w2 = dc_model_pytorch.layers[1].get_weights()[0]\n",
        "d2 = dc_model_pytorch.layers[1].get_weights()[1]\n",
        "b2 = d2.reshape(1,d2.shape[0])\n",
        "# print(w2.shape)\n",
        "# print(b2.shape)\n",
        "\n",
        "# weights and bias of layer 3\n",
        "w3 = dc_model_pytorch.layers[2].get_weights()[0]\n",
        "d3 = dc_model_pytorch.layers[2].get_weights()[1]\n",
        "b3 = d3.reshape(1,d3.shape[0])\n",
        "# print(w3.shape)\n",
        "# print(b3.shape)\n",
        "\n",
        "# weights and bias of layer 4\n",
        "w4 = dc_model_pytorch.layers[3].get_weights()[0]\n",
        "d4 = dc_model_pytorch.layers[3].get_weights()[1]\n",
        "b4 = d4.reshape(1,d4.shape[0])\n",
        "# print(w4.shape)\n",
        "# print(b4.shape)"
      ],
      "metadata": {
        "id": "bdhf-dYcqAke"
      },
      "execution_count": 6,
      "outputs": []
    },
    {
      "cell_type": "code",
      "source": [
        "#model_python\n",
        "def dc_model_python(x):\n",
        "  a1 =np.tanh(np.dot(x,w1)  + b1)\n",
        "  a2 = np.tanh(np.dot(a1,w2) + b2)\n",
        "  a3 = np.tanh(np.dot(a2,w3) + b3)\n",
        "  a4 = np.dot(a3,w4) + b4\n",
        "  # c = 10**(-12)\n",
        "  # y1 = np.power(10,a4)\n",
        "  # print(x.shape)\n",
        "  # y2 = y1*x[0][1]\n",
        "  # Ids = c*y2\n",
        "  return a4"
      ],
      "metadata": {
        "id": "kKZ1lu3Nsdae"
      },
      "execution_count": 7,
      "outputs": []
    },
    {
      "cell_type": "code",
      "source": [
        "x_nump = input_data.to_numpy()\n",
        "#print(x_nump.shape)\n",
        "y_ds_python = dc_model_python(x_nump)\n",
        "Ids_python = inv_con_fn(V_ds, y_ds_python )\n",
        "\n",
        "Ids_python.shape"
      ],
      "metadata": {
        "colab": {
          "base_uri": "https://localhost:8080/"
        },
        "id": "IjN6y1Fesgcr",
        "outputId": "12d0f8a0-3ebd-4ee8-d791-855e0d03b928"
      },
      "execution_count": 8,
      "outputs": [
        {
          "output_type": "execute_result",
          "data": {
            "text/plain": [
              "(12382, 1)"
            ]
          },
          "metadata": {},
          "execution_count": 8
        }
      ]
    },
    {
      "cell_type": "code",
      "source": [
        "plt.plot(V_ds, Yds_pytorch, color=\"red\",label = \"ANN\")\n",
        "plt.plot(V_ds, y_ds_python, color=\"blue\",label = \"Mathetical Model\")\n",
        "plt.legend(loc =\"upper right\")\n",
        "plt.title(\"Pytorch Vs Python\")\n",
        "plt.xlabel(\"Vds\")\n",
        "plt.ylabel(\"Yds\")\n",
        "#plt.savefig(\"output.png\")"
      ],
      "metadata": {
        "colab": {
          "base_uri": "https://localhost:8080/",
          "height": 312
        },
        "id": "rUYxj4Lsw9HX",
        "outputId": "8a4413c9-6f9b-4a23-c07b-d68a88a51601"
      },
      "execution_count": 9,
      "outputs": [
        {
          "output_type": "execute_result",
          "data": {
            "text/plain": [
              "Text(0, 0.5, 'Yds')"
            ]
          },
          "metadata": {},
          "execution_count": 9
        },
        {
          "output_type": "display_data",
          "data": {
            "text/plain": [
              "<Figure size 432x288 with 1 Axes>"
            ],
            "image/png": "[encoded data removed]"
          },
          "metadata": {
            "needs_background": "light"
          }
        }
      ]
    },
    {
      "cell_type": "code",
      "source": [
        "print(Yds_pytorch.max())\n",
        "print(Yds_pytorch.min())\n",
        "plt.plot(V_ds,  Yds_pytorch - y_ds_python)\n",
        "#plt.title(\"Difference between ANN and Mathematical model\")\n",
        "plt.xlabel(\"Vds\")\n",
        "plt.ylabel(\"Pytorch - python\")\n",
        "plt.title(\"Yds\")\n",
        "#plt.savefig(\"relative_yds.png\")"
      ],
      "metadata": {
        "colab": {
          "base_uri": "https://localhost:8080/",
          "height": 347
        },
        "id": "JVv4bT8VyCTi",
        "outputId": "c98f8ced-9939-4f01-f963-2b48fe636e21"
      },
      "execution_count": 10,
      "outputs": [
        {
          "output_type": "stream",
          "name": "stdout",
          "text": [
            "31.606813\n",
            "7.8256483\n"
          ]
        },
        {
          "output_type": "execute_result",
          "data": {
            "text/plain": [
              "Text(0.5, 1.0, 'Yds')"
            ]
          },
          "metadata": {},
          "execution_count": 10
        },
        {
          "output_type": "display_data",
          "data": {
            "text/plain": [
              "<Figure size 432x288 with 1 Axes>"
            ],
            "image/png": "[encoded data removed]"
          },
          "metadata": {
            "needs_background": "light"
          }
        }
      ]
    },
    {
      "cell_type": "code",
      "source": [
        "# plt.plot(V_ds, Ids_pytorch,label = \"ANN\")\n",
        "# plt.plot(V_ds, Ids_python,label = \"Mathetical Model\")\n",
        "# plt.ticklabel_format(axis=\"y\", style=\"sci\", scilimits=(0,0))\n",
        "# plt.legend(loc =\"lower right\")\n",
        "# #plt.title(\"Comparision between ANN and Mathematical model\")\n",
        "# plt.xlabel(\"Vds\")\n",
        "# plt.ylabel(\"Yds\")\n",
        "# #plt.savefig(\"Ids.png\")"
      ],
      "metadata": {
        "id": "YHZqdLPOs_s0"
      },
      "execution_count": 11,
      "outputs": []
    },
    {
      "cell_type": "code",
      "source": [
        "# print(type(V_ds))\n",
        "# print(type(Ids_pytorch))\n",
        "# print(type(Ids_python))\n",
        "# print(V_ds.shape)\n",
        "# print(Ids_pytorch.shape)\n",
        "# print(Ids_python.shape)\n",
        "V_ds_list = (V_ds.T).tolist()[0]\n",
        "Ids_pytorch_list = (Ids_pytorch.T).tolist()[0]\n",
        "Ids_python_list = (Ids_python.T).tolist()[0]\n",
        "# print(len(V_ds_list))\n",
        "# print(len(Ids_pytorch_list))\n",
        "# print(len(Ids_python_list))\n",
        "n = 30\n",
        "V_ds_list = [V_ds_list[i] for i in range(1, len(V_ds_list), n)]\n",
        "Ids_pytorch_list = [Ids_pytorch_list[i] for i in range(1, len(Ids_pytorch_list), n)]\n",
        "Ids_python_list = [Ids_python_list[i] for i in range(1, len(Ids_python_list), n)]\n",
        "# print(len(V_ds_list))\n",
        "# print(len(Ids_pytorch_list))\n",
        "# print(len(Ids_python_list))\n",
        "plt.plot(V_ds_list, Ids_pytorch_list,label = \"Pytorch\", color = \"r\")\n",
        "plt.plot(V_ds_list, Ids_python_list ,label = \"Python\", color = 'b')\n",
        "plt.ticklabel_format(axis=\"y\", style=\"sci\", scilimits=(0,0))\n",
        "plt.legend(loc =\"lower right\")\n",
        "plt.title(\"Pytorch Vs Python\")\n",
        "plt.xlabel(\"Vds\")\n",
        "plt.ylabel(\"Drain Current\")\n",
        "plt.savefig(\"Ids_pytorch_python.png\")"
      ],
      "metadata": {
        "id": "veRm9OgjyH2Y",
        "colab": {
          "base_uri": "https://localhost:8080/",
          "height": 295
        },
        "outputId": "82e6a7b7-8d08-48a7-b726-07ae5edb029a"
      },
      "execution_count": 12,
      "outputs": [
        {
          "output_type": "display_data",
          "data": {
            "text/plain": [
              "<Figure size 432x288 with 1 Axes>"
            ],
            "image/png": "[encoded data removed]"
          },
          "metadata": {
            "needs_background": "light"
          }
        }
      ]
    },
    {
      "cell_type": "code",
      "source": [
        "plt.plot(V_ds, Ids_pytorch- Ids_python)\n",
        "plt.xlabel(\"Vds\")\n",
        "plt.ylabel(\"pytorch - python\")\n",
        "plt.title(\"Ids\")\n",
        "plt.savefig(\"relative_pytorch_python.png\")"
      ],
      "metadata": {
        "colab": {
          "base_uri": "https://localhost:8080/",
          "height": 295
        },
        "id": "2laRh3adv-sf",
        "outputId": "13ae23f0-f1db-4208-9a77-a0754275e0c6"
      },
      "execution_count": 13,
      "outputs": [
        {
          "output_type": "display_data",
          "data": {
            "text/plain": [
              "<Figure size 432x288 with 1 Axes>"
            ],
            "image/png": "[encoded data removed]"
          },
          "metadata": {
            "needs_background": "light"
          }
        }
      ]
    },
    {
      "cell_type": "markdown",
      "source": [
        "# Model in the verilog-a"
      ],
      "metadata": {
        "id": "Z0CIxGGsi4-2"
      }
    },
    {
      "cell_type": "code",
      "source": [
        "def dc_model_verilog_a(V):\n",
        "  w10 = [0.28561026, -1.1987576,  0.035404734]\n",
        "  w11 = [0.28561026, -1.1987576,  0.035404734]\n",
        "  w12 = [-5.6604018, -0.025396412, -0.040023163]\n",
        "  w13 = [0.087847233,  186.82141,  1.1295451]\n",
        "  w14 = [3.9908378, -0.66532516, -0.029740674]\n",
        "  w15 = [0.32539603, -91.497322, -0.31589878]\n",
        "  w16 = [-1.2867148,  0.13357331, -0.014167404]\n",
        "  w17 = [-2.2547679,  0.0069422517, -0.027427338]\n",
        "  w18 = [-0.078905769,  0.29380876, -0.032025822]\n",
        "  w19 = [0.10708792,  7.4484096, -0.066626176]\n",
        "  b1  = [-0.20026882,  0.11922879,  1.5453364,   0.08195057, -1.7808515,   0.2304061,  0.36992177,  0.7504497,  -0.20652157, -0.0896816]\n",
        "\n",
        "  w20 = [0.537856, -0.09830168, -0.13949962, 1.5148432, 1.1379906, 0.39342505, -0.6730099, -1.148445, -0.18031363, 0.03118794]\n",
        "  w21 = [0.26455194, -1.9114736, 1.1401272, 0.92864203, 0.6353045, 1.5899615, 0.43653044, -0.6698119, -0.02273074, -0.08627768]\n",
        "  w22 = [0.24936286, 4.421175, 4.377462, -3.7644897, 2.519083, 7.1023426, -0.31717917, -0.7797747, 0.39239684, 0.41258836]\n",
        "  w23 = [0.12465202, 0.07750362, -1.356123, -0.50228214, -1.263502, -0.06208649, 0.24573554, -1.3153042, -0.1269273, -0.17593679]\n",
        "  w24 = [-0.04450439, -1.2739071, 2.210329, -6.1931014, 2.3447404, -0.45364913, -0.85488296, -0.2843409, -0.71766526, 0.08273758]\n",
        "  w25 = [-0.11352942, -0.32819495, 0.14416045, 0.68048966, 0.08465008, 0.09865341, 1.1596516, -0.22459109, 0.93586457, -0.05719684]\n",
        "  w26 = [-1.9365855, -0.15145455, 0.92252296, 0.63498485, -0.2604643, -1.1120566, 0.81784225, 1.4234469, 0.8188901, 1.062146]\n",
        "  w27 = [-0.49939469, 0.02685997, -0.58980733, -0.94750875, -1.0966705, -0.21519971, -0.9113308, -0.32445982, 0.5712549, -0.14333673]\n",
        "  w28 = [0.57412535, 1.8633165, -3.4403083, -6.5481625, 0.08858316, 3.9725633, -0.72191805, -0.8509305, 8.300041, 1.7285239]\n",
        "  w29 = [-0.6349698, 0.70912987, 1.8322216, -8.722671, 3.1418834, 14.757689, 1.3385009, 3.147931, 1.254156, -1.8875655]\n",
        "  b2  = [-0.09764316, -1.110255, -0.13661075, 1.4782246, -1.2015083, -0.8979334, -3.9384933, -0.5162159, -2.0378318, -1.6671207]\n",
        "\n",
        "  w30 = [0.52744836, -0.14022988, -2.8671932, -2.2499733, 2.1836703, 0.59732169, 1.1199905, 0.13817640, 1.3216889, -9.1981211]\n",
        "  w31 = [1.4890208, 0.13435327, -0.28264040, 0.36537871, -0.45720160, -0.15684803, -0.18839014, 0.37197873, -1.4263445, 1.4052831]\n",
        "  w32 = [-0.0042333966, -0.37956825, 0.0087133525, 0.018496443, -0.56555510, -0.098922513, -0.32581753, -0.026991909, 0.0084790494, -0.024464734]\n",
        "  w33 = [-1.3235840, 0.067255393, -0.22330180, -2.6134956, -0.74525779, -0.56566507, -0.68974704,  0.66479582, 2.0573246, -1.9159362]\n",
        "  w34 = [-0.28395173, -0.16095938, -1.9902911, -0.85741490, -1.0009412, 0.092928432, 0.55211222, 0.16920313, 0.050174780, -0.17872147]\n",
        "  b3  = [-2.878732, 1.9188049, 0.69974947, -2.3478692, -0.27443334]\n",
        "\n",
        "  w40 = [-10.805246, 5.772061, 4.3736005, -5.8893104, -2.403235]\n",
        "  b4 = 5.340328\n",
        "  vds = V[1]\n",
        "  a = V[0]\n",
        "  b = V[1]\n",
        "  c = V[2]\n",
        "  a10 = math.tanh(a*w10[0] + b*w10[1] + c*w10[2] + b1[0]);\n",
        "  a11 = math.tanh(a*w11[0] + b*w11[1] + c*w11[2] + b1[1]);\n",
        "  a12 = math.tanh(a*w12[0] + b*w12[1] + c*w12[2] + b1[2]);\n",
        "  a13 = math.tanh(a*w13[0] + b*w13[1] + c*w13[2] + b1[3]);\n",
        "  a14 = math.tanh(a*w14[0] + b*w14[1] + c*w14[2] + b1[4]);\n",
        "  a15 = math.tanh(a*w15[0] + b*w15[1] + c*w15[2] + b1[5]);\n",
        "  a16 = math.tanh(a*w16[0] + b*w16[1] + c*w16[2] + b1[6]);\n",
        "  a17 = math.tanh(a*w17[0] + b*w17[1] + c*w17[2] + b1[7]);\n",
        "  a18 = math.tanh(a*w18[0] + b*w18[1] + c*w18[2] + b1[8]);\n",
        "  a19 = math.tanh(a*w19[0] + b*w19[1] + c*w19[2] + b1[9]);\n",
        "\n",
        "\n",
        "  a20 = math.tanh(a10*w20[0] + a11*w20[1] +a12*w20[2] +a13*w20[3] +a14*w20[4] +a15*w20[5] +a16*w20[6] +a17*w20[7] +a18*w20[8] +a19*w20[9] + b2[0]);\n",
        "  a21 = math.tanh(a10*w21[0] + a11*w21[1] +a12*w21[2] +a13*w21[3] +a14*w21[4] +a15*w21[5] +a16*w21[6] +a17*w21[7] +a18*w21[8] +a19*w21[9] + b2[1]); \n",
        "  a22 = math.tanh(a10*w22[0] + a11*w22[1] +a12*w22[2] +a13*w22[3] +a14*w22[4] +a15*w22[5] +a16*w22[6] +a17*w22[7] +a18*w22[8] +a19*w22[9] + b2[2]); \n",
        "  a23 = math.tanh(a10*w23[0] + a11*w23[1] +a12*w23[2] +a13*w23[3] +a14*w23[4] +a15*w23[5] +a16*w23[6] +a17*w23[7] +a18*w23[8] +a19*w23[9] + b2[3]); \n",
        "  a24 = math.tanh(a10*w24[0] + a11*w24[1] +a12*w24[2] +a13*w24[3] +a14*w24[4] +a15*w24[5] +a16*w24[6] +a17*w24[7] +a18*w24[8] +a19*w24[9] + b2[4]);  \n",
        "  a25 = math.tanh(a10*w25[0] + a11*w25[1] +a12*w25[2] +a13*w25[3] +a14*w25[4] +a15*w25[5] +a16*w25[6] +a17*w25[7] +a18*w25[8] +a19*w25[9] + b2[5]); \n",
        "  a26 = math.tanh(a10*w26[0] + a11*w26[1] +a12*w26[2] +a13*w26[3] +a14*w26[4] +a15*w26[5] +a16*w26[6] +a17*w26[7] +a18*w26[8] +a19*w26[9] + b2[6]); \n",
        "  a27 = math.tanh(a10*w27[0] + a11*w27[1] +a12*w27[2] +a13*w27[3] +a14*w27[4] +a15*w27[5] +a16*w27[6] +a17*w27[7] +a18*w27[8] +a19*w27[9] + b2[7]); \n",
        "  a28 = math.tanh(a10*w28[0] + a11*w28[1] +a12*w28[2] +a13*w28[3] +a14*w28[4] +a15*w28[5] +a16*w28[6] +a17*w28[7] +a18*w28[8] +a19*w28[9] + b2[8]); \n",
        "  a29 = math.tanh(a10*w29[0] + a11*w29[1] +a12*w29[2] +a13*w29[3] +a14*w29[4] +a15*w29[5] +a16*w29[6] +a17*w29[7] +a18*w29[8] +a19*w29[9] + b2[9]); \n",
        "\n",
        "  a30 = math.tanh(a20*w30[0] + a21*w30[1] +a22*w30[2] +a23*w30[3] +a24*w30[4] +a25*w30[5] +a26*w30[6] +a27*w30[7] +a28*w30[8] +a29*w30[9]  + b3[0]);\n",
        "  a31 = math.tanh(a20*w31[0] + a21*w31[1] +a22*w31[2] +a23*w31[3] +a24*w31[4] +a25*w31[5] +a26*w31[6] +a27*w31[7] +a28*w31[8] +a29*w31[9]  + b3[1]);\n",
        "  a32 = math.tanh(a20*w32[0] + a21*w32[1] +a22*w32[2] +a23*w32[3] +a24*w32[4] +a25*w32[5] +a26*w32[6] +a27*w32[7] +a28*w32[8] +a29*w32[9]  + b3[2]);\n",
        "  a33 = math.tanh(a20*w33[0] + a21*w33[1] +a22*w33[2] +a23*w33[3] +a24*w33[4] +a25*w33[5] +a26*w33[6] +a27*w33[7] +a28*w33[8] +a29*w33[9]  + b3[3]);\n",
        "  a34 = math.tanh(a20*w34[0] + a21*w34[1] +a22*w34[2] +a23*w34[3] +a24*w34[4] +a25*w34[5] +a26*w34[6] +a27*w34[7] +a28*w34[8] +a29*w34[9]  + b3[4]);\n",
        "  a40 = a30*w40[0] + a31*w40[1] + a32*w40[2] + a33*w40[3] + a34*w40[4] + b4;\n",
        "  \n",
        "  Ids = math.pow(10,-12)*vds*math.pow(10,a40)\n",
        "  return Ids "
      ],
      "metadata": {
        "id": "oiWd_IRBi0Ou"
      },
      "execution_count": 14,
      "outputs": []
    },
    {
      "cell_type": "code",
      "source": [
        "dc_model_verilog_a([1.2,5.0,0])"
      ],
      "metadata": {
        "id": "UelCJlCFaprh",
        "colab": {
          "base_uri": "https://localhost:8080/"
        },
        "outputId": "c3bcad07-3726-4c08-9d89-bf227a337e0c"
      },
      "execution_count": 15,
      "outputs": [
        {
          "output_type": "execute_result",
          "data": {
            "text/plain": [
              "0.000659841227277236"
            ]
          },
          "metadata": {},
          "execution_count": 15
        }
      ]
    },
    {
      "cell_type": "code",
      "source": [
        "input_verilogs = input_data.values.tolist()\n",
        "output_verilogs = []\n",
        "Vds_verilog = []\n",
        "for input_verilog in input_verilogs:\n",
        "  output_verilog = dc_model_verilog_a(input_verilog)\n",
        "  output_verilogs.append(output_verilog)\n",
        "  Vds_verilog.append(input_verilog[1])\n",
        "\n",
        "print(len(Vds_verilog))\n",
        "n = 30\n",
        "output_verilogs = [output_verilogs[i] for i in range(1, len(output_verilogs), n)]\n",
        "Vds_verilog  = [Vds_verilog [i] for i in range(1, len(Vds_verilog), n)]\n",
        "print(len(Vds_verilog))"
      ],
      "metadata": {
        "colab": {
          "base_uri": "https://localhost:8080/"
        },
        "id": "wcDAfhxUjI5Y",
        "outputId": "e1e07b86-2b1e-44ad-e684-4a518ec2a040"
      },
      "execution_count": 16,
      "outputs": [
        {
          "output_type": "stream",
          "name": "stdout",
          "text": [
            "12382\n",
            "413\n"
          ]
        }
      ]
    },
    {
      "cell_type": "code",
      "source": [
        "plt.plot(Vds_verilog, output_verilogs,label = \"Veriloga\", color = \"r\")\n",
        "plt.ticklabel_format(axis=\"y\", style=\"sci\", scilimits=(0,0))\n",
        "plt.legend(loc =\"lower right\")\n",
        "plt.title(\"Veriloga\")\n",
        "plt.xlabel(\"Vds\")\n",
        "plt.ylabel(\"Drain Current\")\n",
        "plt.savefig(\"Ids_Veriloga.png\")"
      ],
      "metadata": {
        "colab": {
          "base_uri": "https://localhost:8080/",
          "height": 295
        },
        "id": "5PEv-RHs4Pi0",
        "outputId": "5de86d0b-3ecd-40da-d9c1-8ad27411a4ae"
      },
      "execution_count": 17,
      "outputs": [
        {
          "output_type": "display_data",
          "data": {
            "text/plain": [
              "<Figure size 432x288 with 1 Axes>"
            ],
            "image/png": "[encoded data removed]"
          },
          "metadata": {
            "needs_background": "light"
          }
        }
      ]
    },
    {
      "cell_type": "code",
      "source": [
        "plt.plot(V_ds_list, Ids_python_list ,label = \"Python\", color = 'b')\n",
        "plt.plot(Vds_verilog, output_verilogs,label = \"Veriloga\", color = \"r\")\n",
        "plt.ticklabel_format(axis=\"y\", style=\"sci\", scilimits=(0,0))\n",
        "plt.legend(loc =\"lower right\")\n",
        "plt.title(\"Python Vs Veriloga\")\n",
        "plt.xlabel(\"Vds\")\n",
        "plt.ylabel(\"Drain Current\")\n",
        "plt.savefig(\"Ids_Python_Veriloga.png\")"
      ],
      "metadata": {
        "colab": {
          "base_uri": "https://localhost:8080/",
          "height": 295
        },
        "id": "Psi0IYgy4CUT",
        "outputId": "dc1f4eaf-a00c-40d6-cd51-f828c3a66086"
      },
      "execution_count": 18,
      "outputs": [
        {
          "output_type": "display_data",
          "data": {
            "text/plain": [
              "<Figure size 432x288 with 1 Axes>"
            ],
            "image/png": "[encoded data removed]"
          },
          "metadata": {
            "needs_background": "light"
          }
        }
      ]
    },
    {
      "cell_type": "code",
      "source": [
        "plt.plot(V_ds_list, Ids_pytorch_list,label = \"Pytorch\", color = \"r\")\n",
        "plt.plot(V_ds_list, Ids_python_list ,label = \"Python\", color = 'b')\n",
        "plt.plot(Vds_verilog, output_verilogs,label = \"Veriloga\", color = \"g\")\n",
        "\n",
        "plt.ticklabel_format(axis=\"y\", style=\"sci\", scilimits=(0,0))\n",
        "plt.legend(loc =\"lower right\")\n",
        "plt.title(\"Python Vs Veriloga\")\n",
        "plt.xlabel(\"Vds\")\n",
        "plt.ylabel(\"Drain Current\")\n",
        "plt.savefig(\"Ids_Pytorch_Python_Veriloga.png\")"
      ],
      "metadata": {
        "colab": {
          "base_uri": "https://localhost:8080/",
          "height": 295
        },
        "id": "FUVJsc0Jlng2",
        "outputId": "2eb0b270-3808-49d4-a5b7-31a2770382bf"
      },
      "execution_count": 19,
      "outputs": [
        {
          "output_type": "display_data",
          "data": {
            "text/plain": [
              "<Figure size 432x288 with 1 Axes>"
            ],
            "image/png": "[encoded data removed]"
          },
          "metadata": {
            "needs_background": "light"
          }
        }
      ]
    },
    {
      "cell_type": "code",
      "source": [
        "plt.plot(np.array(V_ds_list), np.array(Ids_python_list) - np.array(output_verilogs))\n",
        "plt.xlabel(\"Vds\")\n",
        "plt.ylabel(\"python - veriloga\")\n",
        "plt.title(\"Ids\")\n",
        "plt.savefig(\"relative_python_veriloga.png\")"
      ],
      "metadata": {
        "id": "T_Wk_DlKqfUr",
        "colab": {
          "base_uri": "https://localhost:8080/",
          "height": 295
        },
        "outputId": "3a0d61f9-c2e0-459b-83aa-75855f2f22e4"
      },
      "execution_count": 20,
      "outputs": [
        {
          "output_type": "display_data",
          "data": {
            "text/plain": [
              "<Figure size 432x288 with 1 Axes>"
            ],
            "image/png": "[encoded data removed]"
          },
          "metadata": {
            "needs_background": "light"
          }
        }
      ]
    },
    {
      "cell_type": "code",
      "source": [
        ""
      ],
      "metadata": {
        "id": "0SvU4NBvr47r"
      },
      "execution_count": 20,
      "outputs": []
    }
  ]
}