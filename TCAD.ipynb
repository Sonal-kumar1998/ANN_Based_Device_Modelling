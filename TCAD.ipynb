{
  "nbformat": 4,
  "nbformat_minor": 0,
  "metadata": {
    "colab": {
      "name": "TCAD.ipynb",
      "provenance": [],
      "authorship_tag": "ABX9TyPVHWuWcYC9jtnbs7hj1Tjd",
      "include_colab_link": true
    },
    "kernelspec": {
      "name": "python3",
      "display_name": "Python 3"
    },
    "language_info": {
      "name": "python"
    }
  },
  "cells": [
    {
      "cell_type": "markdown",
      "metadata": {
        "id": "view-in-github",
        "colab_type": "text"
      },
      "source": [
        "<a href=\"https://colab.research.google.com/github/Sonal-kumar1998/ANN_Based_Device_Modelling/blob/main/TCAD.ipynb\" target=\"_parent\"><img src=\"https://colab.research.google.com/assets/colab-badge.svg\" alt=\"Open In Colab\"/></a>"
      ]
    },
    {
      "cell_type": "markdown",
      "metadata": {
        "id": "SfB4Kv4kf_Rt"
      },
      "source": [
        "#Column generated durning DC simulation in TCAD"
      ]
    },
    {
      "cell_type": "code",
      "metadata": {
        "colab": {
          "base_uri": "https://localhost:8080/"
        },
        "id": "GyniXTGMd-rF",
        "outputId": "9cc195d4-cf2f-44fe-9f9d-e389d92b6c5a"
      },
      "source": [
        "column ='\"time\" \"gate OuterVoltage\" \"gate InnerVoltage\" \"gate QuasiFermiPotential\" \"gate DisplacementCurrent\" \"gate eCurrent\" \"gate hCurrent\" \"gate TotalCurrent\" \"gate Charge\" \"drain OuterVoltage\" \"drain InnerVoltage\" \"drain QuasiFermiPotential\" \"drain DisplacementCurrent\" \"drain eCurrent\" \"drain hCurrent\" \"drain TotalCurrent\" \"drain Charge\" \"substrate OuterVoltage\" \"substrate InnerVoltage\" \"substrate QuasiFermiPotential\" \"substrate DisplacementCurrent\" \"substrate eCurrent\" \"substrate hCurrent\" \"substrate TotalCurrent\" \"substrate Charge\" \"source OuterVoltage\" \"source InnerVoltage\" \"source QuasiFermiPotential\" \"source DisplacementCurrent\" \"source eCurrent\" \"source hCurrent\" \"source TotalCurrent\" \"source Charge\"'\n",
        "column = column.split('\" \"')\n",
        "column = [col.strip('\"') for col in column]\n",
        "col_num = []\n",
        "required = ['gate OuterVoltage', 'drain OuterVoltage' ,'' 'drain TotalCurrent','substrate OuterVoltage', 'source OuterVoltage']\n",
        "for i , col in enumerate(column):\n",
        "  if col in required:\n",
        "    col_num.append(i+1)\n",
        "print(col_num)\n"
      ],
      "execution_count": null,
      "outputs": [
        {
          "output_type": "stream",
          "name": "stdout",
          "text": [
            "[2, 10, 16, 18, 26]\n"
          ]
        }
      ]
    },
    {
      "cell_type": "code",
      "metadata": {
        "colab": {
          "base_uri": "https://localhost:8080/"
        },
        "id": "25OXM9M3eUny",
        "outputId": "ba262b6c-5e69-4930-f8b4-0fd68fa2cd47"
      },
      "source": [
        "for i , col in enumerate(column):\n",
        "  print(i+1, col)"
      ],
      "execution_count": null,
      "outputs": [
        {
          "output_type": "stream",
          "name": "stdout",
          "text": [
            "1 time\n",
            "2 gate OuterVoltage\n",
            "3 gate InnerVoltage\n",
            "4 gate QuasiFermiPotential\n",
            "5 gate DisplacementCurrent\n",
            "6 gate eCurrent\n",
            "7 gate hCurrent\n",
            "8 gate TotalCurrent\n",
            "9 gate Charge\n",
            "10 drain OuterVoltage\n",
            "11 drain InnerVoltage\n",
            "12 drain QuasiFermiPotential\n",
            "13 drain DisplacementCurrent\n",
            "14 drain eCurrent\n",
            "15 drain hCurrent\n",
            "16 drain TotalCurrent\n",
            "17 drain Charge\n",
            "18 substrate OuterVoltage\n",
            "19 substrate InnerVoltage\n",
            "20 substrate QuasiFermiPotential\n",
            "21 substrate DisplacementCurrent\n",
            "22 substrate eCurrent\n",
            "23 substrate hCurrent\n",
            "24 substrate TotalCurrent\n",
            "25 substrate Charge\n",
            "26 source OuterVoltage\n",
            "27 source InnerVoltage\n",
            "28 source QuasiFermiPotential\n",
            "29 source DisplacementCurrent\n",
            "30 source eCurrent\n",
            "31 source hCurrent\n",
            "32 source TotalCurrent\n",
            "33 source Charge\n"
          ]
        }
      ]
    },
    {
      "cell_type": "code",
      "metadata": {
        "colab": {
          "base_uri": "https://localhost:8080/"
        },
        "id": "FqEVDUlFlHG-",
        "outputId": "5450d046-82c5-48c0-979e-242c0060b5d7"
      },
      "source": [
        "column =    '\"frequency\" \"v(d)\" \"v(s)\" \"v(g)\" \"v(b)\" \"a(d,d)\" \"c(d,d)\" \"a(d,s)\" \"c(d,s)\" \"a(d,g)\" \"c(d,g)\" \"a(d,b)\" \"c(d,b)\" \"a(s,d)\" \"c(s,d)\" \"a(s,s)\" \"c(s,s)\" \"a(s,g)\" \"c(s,g)\" \"a(s,b)\" \"c(s,b)\" \"a(g,d)\" \"c(g,d)\" \"a(g,s)\" \"c(g,s)\" \"a(g,g)\" \"c(g,g)\" \"a(g,b)\" \"c(g,b)\" \"a(b,d)\" \"c(b,d)\" \"a(b,s)\" \"c(b,s)\" \"a(b,g)\" \"c(b,g)\" \"a(b,b)\" \"c(b,b)\"'\n",
        "column = column.split('\" \"')\n",
        "column = [col.strip('\"') for col in column]\n",
        "col_num = []\n",
        "required = ['gate OuterVoltage', 'drain OuterVoltage' ,'' 'drain TotalCurrent','substrate OuterVoltage', 'source OuterVoltage']\n",
        "for i , col in enumerate(column):\n",
        "  if col in required:\n",
        "    col_num.append(i+1)\n",
        "print(col_num)"
      ],
      "execution_count": null,
      "outputs": [
        {
          "output_type": "stream",
          "name": "stdout",
          "text": [
            "[]\n"
          ]
        }
      ]
    },
    {
      "cell_type": "code",
      "metadata": {
        "colab": {
          "base_uri": "https://localhost:8080/"
        },
        "id": "4cLpIcPlle1G",
        "outputId": "90b54de8-90ee-4a0d-a8b9-288df86bc754"
      },
      "source": [
        "for i , col in enumerate(column):\n",
        "  print(i+1, col)"
      ],
      "execution_count": null,
      "outputs": [
        {
          "output_type": "stream",
          "name": "stdout",
          "text": [
            "1 frequency\n",
            "2 v(d)\n",
            "3 v(s)\n",
            "4 v(g)\n",
            "5 v(b)\n",
            "6 a(d,d)\n",
            "7 c(d,d)\n",
            "8 a(d,s)\n",
            "9 c(d,s)\n",
            "10 a(d,g)\n",
            "11 c(d,g)\n",
            "12 a(d,b)\n",
            "13 c(d,b)\n",
            "14 a(s,d)\n",
            "15 c(s,d)\n",
            "16 a(s,s)\n",
            "17 c(s,s)\n",
            "18 a(s,g)\n",
            "19 c(s,g)\n",
            "20 a(s,b)\n",
            "21 c(s,b)\n",
            "22 a(g,d)\n",
            "23 c(g,d)\n",
            "24 a(g,s)\n",
            "25 c(g,s)\n",
            "26 a(g,g)\n",
            "27 c(g,g)\n",
            "28 a(g,b)\n",
            "29 c(g,b)\n",
            "30 a(b,d)\n",
            "31 c(b,d)\n",
            "32 a(b,s)\n",
            "33 c(b,s)\n",
            "34 a(b,g)\n",
            "35 c(b,g)\n",
            "36 a(b,b)\n",
            "37 c(b,b)\n"
          ]
        }
      ]
    },
    {
      "cell_type": "code",
      "metadata": {
        "id": "ryNm3jQs34fT"
      },
      "source": [
        "    \"frequency\"\n",
        "    \"v(d)\" \"v(s)\" \"v(g)\" \"v(b)\" \"a(d,d)\"\n",
        "    \"c(d,d)\" \"a(d,s)\" \"c(d,s)\" \"a(d,g)\" \"c(d,g)\"\n",
        "    \"a(d,b)\" \"c(d,b)\" \"a(s,d)\" \"c(s,d)\" \"a(s,s)\"\n",
        "    \"c(s,s)\" \"a(s,g)\" \"c(s,g)\" \"a(s,b)\" \"c(s,b)\"\n",
        "    \"a(g,d)\" \"c(g,d)\" \"a(g,s)\" \"c(g,s)\" \"a(g,g)\"\n",
        "    \"c(g,g)\" \"a(g,b)\" \"c(g,b)\" \"a(b,d)\" \"c(b,d)\"\n",
        "    \"a(b,s)\" \"c(b,s)\" \"a(b,g)\" \"c(b,g)\" \"a(b,b)\"\n",
        "    \"c(b,b)\" "
      ],
      "execution_count": null,
      "outputs": []
    }
  ]
}